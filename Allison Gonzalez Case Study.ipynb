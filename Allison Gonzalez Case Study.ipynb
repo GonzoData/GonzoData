{
 "cells": [
  {
   "cell_type": "markdown",
   "metadata": {},
   "source": [
    "# <font color=red>Bottom Line Up Front</font>\n",
    "\n",
    "- There is no correlation between Ingredient Prices and Oil Prices\n",
    "- Should there be a correlation?  Is there business knowledge that would be helpful or is this a hypothesis test?\n",
    "- Recommendation \n",
    "     - Use free open source data (Frederal Reserve) to determine if external econmic factors are correlated with Ingredient Price and/or Oil Prices.  Sometimes not all internal data is correlated and external/economic variables impact internal variables.\n",
    "         - If interested, ask me about my Patent about this! \n",
    "    - Control for quarters or months that typically have higher prices for the business so we can determine more insights.  \n",
    "     \n",
    "     \n",
    "\n",
    "# Data Details \n",
    "\n",
    "- Ingredient Price Dataset (Price_x for merged_df)\n",
    "     - 184 rows (before removing two missing values and outlier)\n",
    "     - Date range: Monthly data 2005 - 2020\n",
    "- Oil Price Dataset (Price_y for merged_df)\n",
    "    - 8,385 rows\n",
    "    - Date range: Daily data 1987 - 2020 \n",
    "- Completed same steps for both oil/ingredient price and without the outliers. \n",
    "\n",
    "    - \n",
    "\n",
    "# Task\n",
    "\n",
    "Understand the correlation (and lag in the correlation)\n",
    "between the oil and the ingredient prices \n",
    "\n",
    "<br>\n",
    "\n",
    "## Bonus Responses\n",
    "- What is the quality of our data?\n",
    "<font color=red> - Good data due to very few missing values and only 2 outliers that look like a manual entery error. How is this data gathered and is it a manual entry process?\n",
    "<br></font>\n",
    "   \n",
    "<br>\n",
    "\n",
    "- What are the time series properties, such as stationarity, seasonality, auto- and crosscorrelation?<font color=red> - Oil price (all Price_y values) is not stationary data by Dickey-Fuller method because it is not statistically significant (p-value graeater that .05).  The ingredient data had a p-value was equal to or less than .05.  This means this not by random chance (statistically significant). \n",
    "<br></font>\n",
    "\n",
    "<br>\n",
    "\n",
    "- Does the time series behavior change over time?\n",
    "<font color=red> - Yes.  Also, there is a peak in year 2009 for both oil and ingredient price.\n",
    "<br></font>\n",
    "\n",
    "\n",
    "<br>\n",
    "\n",
    "- Can we forecast price of raw ingredient using price of oil?\n",
    "<font color=red> - No because there is no correlation\n",
    "<br></font>"
   ]
  },
  {
   "cell_type": "markdown",
   "metadata": {},
   "source": [
    "# Allison Gonzalez Outline \n",
    "\n",
    "## Occam's Razor \n",
    "- Simplest solution is the best solution\n",
    "     - This is first iteration of analysis to answer the initial business question.  After sharing with business subject matter experts, another iteration will be completed (another step towards automation).\n",
    "     - Sharing insights through an iterative process shows tranparancy and maiantains alignment between all stakeholders in involved in project. \n",
    "     \n",
    "     \n",
    "## Exploratory Data Analysis (EDA) \n",
    "- Good/Bad data in then Good/Bad data out\n",
    "- Summary statistics, outliers, missing data, and visuals\n",
    "\n",
    "## First Steps\n",
    "- Exploratory Data Analysis (EDA) and Time Series Analysis for each dataset \n",
    "- Create Month and Year field to join Ingredient Price (df_ip) with Oil Price (df_op)\n",
    "\n",
    "### Analysis Process \n",
    "\n",
    "- I filtered the Oil data from 8,385 to 3,901 based on the year equal to or greater than 2005 and less than or equal to 4/21/20 (Standard Limimits)\n",
    "\n",
    "  - Example, a correlation can not be completed if there are no matching dates.  For the correlation analysis the 1987 data is irrelevant.  Also, we do not know how credible data prior to 2005 is credible.  In 1987 this data could have been manually entered from a typewriter and I wouldn't be concerned about trends in 1987. \n"
   ]
  },
  {
   "cell_type": "code",
   "execution_count": 1,
   "metadata": {},
   "outputs": [],
   "source": [
    "import pandas as pd\n",
    "import datetime as dt\n",
    "import matplotlib.pyplot as plt\n",
    "import numpy as np\n",
    "import seaborn as sns"
   ]
  },
  {
   "cell_type": "code",
   "execution_count": 2,
   "metadata": {},
   "outputs": [],
   "source": [
    "df_ip = pd.read_csv('ingredient_prices.csv')"
   ]
  },
  {
   "cell_type": "code",
   "execution_count": 3,
   "metadata": {},
   "outputs": [
    {
     "data": {
      "text/html": [
       "<div>\n",
       "<style scoped>\n",
       "    .dataframe tbody tr th:only-of-type {\n",
       "        vertical-align: middle;\n",
       "    }\n",
       "\n",
       "    .dataframe tbody tr th {\n",
       "        vertical-align: top;\n",
       "    }\n",
       "\n",
       "    .dataframe thead th {\n",
       "        text-align: right;\n",
       "    }\n",
       "</style>\n",
       "<table border=\"1\" class=\"dataframe\">\n",
       "  <thead>\n",
       "    <tr style=\"text-align: right;\">\n",
       "      <th></th>\n",
       "      <th>Date</th>\n",
       "      <th>Price</th>\n",
       "    </tr>\n",
       "  </thead>\n",
       "  <tbody>\n",
       "    <tr>\n",
       "      <td>0</td>\n",
       "      <td>1/1/2005</td>\n",
       "      <td>570</td>\n",
       "    </tr>\n",
       "    <tr>\n",
       "      <td>1</td>\n",
       "      <td>2/1/2005</td>\n",
       "      <td>570</td>\n",
       "    </tr>\n",
       "    <tr>\n",
       "      <td>2</td>\n",
       "      <td>3/1/2005</td>\n",
       "      <td>610</td>\n",
       "    </tr>\n",
       "    <tr>\n",
       "      <td>3</td>\n",
       "      <td>4/1/2005</td>\n",
       "      <td>600</td>\n",
       "    </tr>\n",
       "    <tr>\n",
       "      <td>4</td>\n",
       "      <td>5/1/2005</td>\n",
       "      <td>570</td>\n",
       "    </tr>\n",
       "  </tbody>\n",
       "</table>\n",
       "</div>"
      ],
      "text/plain": [
       "       Date Price\n",
       "0  1/1/2005   570\n",
       "1  2/1/2005   570\n",
       "2  3/1/2005   610\n",
       "3  4/1/2005   600\n",
       "4  5/1/2005   570"
      ]
     },
     "execution_count": 3,
     "metadata": {},
     "output_type": "execute_result"
    }
   ],
   "source": [
    "df_ip.head()"
   ]
  },
  {
   "cell_type": "code",
   "execution_count": 4,
   "metadata": {},
   "outputs": [
    {
     "name": "stdout",
     "output_type": "stream",
     "text": [
      "<class 'pandas.core.frame.DataFrame'>\n",
      "RangeIndex: 184 entries, 0 to 183\n",
      "Data columns (total 2 columns):\n",
      "Date     184 non-null object\n",
      "Price    183 non-null object\n",
      "dtypes: object(2)\n",
      "memory usage: 3.0+ KB\n"
     ]
    }
   ],
   "source": [
    "#check the type of fields helps with EDA\n",
    "df_ip.info()"
   ]
  },
  {
   "cell_type": "code",
   "execution_count": 5,
   "metadata": {},
   "outputs": [
    {
     "data": {
      "text/html": [
       "<div>\n",
       "<style scoped>\n",
       "    .dataframe tbody tr th:only-of-type {\n",
       "        vertical-align: middle;\n",
       "    }\n",
       "\n",
       "    .dataframe tbody tr th {\n",
       "        vertical-align: top;\n",
       "    }\n",
       "\n",
       "    .dataframe thead th {\n",
       "        text-align: right;\n",
       "    }\n",
       "</style>\n",
       "<table border=\"1\" class=\"dataframe\">\n",
       "  <thead>\n",
       "    <tr style=\"text-align: right;\">\n",
       "      <th></th>\n",
       "      <th>Date</th>\n",
       "      <th>Price</th>\n",
       "    </tr>\n",
       "  </thead>\n",
       "  <tbody>\n",
       "    <tr>\n",
       "      <td>0</td>\n",
       "      <td>2005-01-01</td>\n",
       "      <td>570</td>\n",
       "    </tr>\n",
       "    <tr>\n",
       "      <td>1</td>\n",
       "      <td>2005-02-01</td>\n",
       "      <td>570</td>\n",
       "    </tr>\n",
       "    <tr>\n",
       "      <td>2</td>\n",
       "      <td>2005-03-01</td>\n",
       "      <td>610</td>\n",
       "    </tr>\n",
       "    <tr>\n",
       "      <td>3</td>\n",
       "      <td>2005-04-01</td>\n",
       "      <td>600</td>\n",
       "    </tr>\n",
       "    <tr>\n",
       "      <td>4</td>\n",
       "      <td>2005-05-01</td>\n",
       "      <td>570</td>\n",
       "    </tr>\n",
       "    <tr>\n",
       "      <td>...</td>\n",
       "      <td>...</td>\n",
       "      <td>...</td>\n",
       "    </tr>\n",
       "    <tr>\n",
       "      <td>179</td>\n",
       "      <td>2019-12-01</td>\n",
       "      <td>740</td>\n",
       "    </tr>\n",
       "    <tr>\n",
       "      <td>180</td>\n",
       "      <td>2020-01-01</td>\n",
       "      <td>740</td>\n",
       "    </tr>\n",
       "    <tr>\n",
       "      <td>181</td>\n",
       "      <td>2020-02-01</td>\n",
       "      <td>740</td>\n",
       "    </tr>\n",
       "    <tr>\n",
       "      <td>182</td>\n",
       "      <td>2020-03-01</td>\n",
       "      <td>720</td>\n",
       "    </tr>\n",
       "    <tr>\n",
       "      <td>183</td>\n",
       "      <td>2020-04-01</td>\n",
       "      <td>600</td>\n",
       "    </tr>\n",
       "  </tbody>\n",
       "</table>\n",
       "<p>184 rows × 2 columns</p>\n",
       "</div>"
      ],
      "text/plain": [
       "          Date Price\n",
       "0   2005-01-01   570\n",
       "1   2005-02-01   570\n",
       "2   2005-03-01   610\n",
       "3   2005-04-01   600\n",
       "4   2005-05-01   570\n",
       "..         ...   ...\n",
       "179 2019-12-01   740\n",
       "180 2020-01-01   740\n",
       "181 2020-02-01   740\n",
       "182 2020-03-01   720\n",
       "183 2020-04-01   600\n",
       "\n",
       "[184 rows x 2 columns]"
      ]
     },
     "execution_count": 5,
     "metadata": {},
     "output_type": "execute_result"
    }
   ],
   "source": [
    "#make the object to date \n",
    "df_ip['Date'] = pd.to_datetime(df_ip['Date'], errors='coerce')\n",
    "df_ip"
   ]
  },
  {
   "cell_type": "code",
   "execution_count": 6,
   "metadata": {},
   "outputs": [],
   "source": [
    "#make price object to number\n",
    "df_ip['Price'] = pd.to_numeric(df_ip['Price'],errors = 'coerce')"
   ]
  },
  {
   "cell_type": "code",
   "execution_count": 7,
   "metadata": {},
   "outputs": [
    {
     "name": "stdout",
     "output_type": "stream",
     "text": [
      "<class 'pandas.core.frame.DataFrame'>\n",
      "RangeIndex: 184 entries, 0 to 183\n",
      "Data columns (total 2 columns):\n",
      "Date     184 non-null datetime64[ns]\n",
      "Price    182 non-null float64\n",
      "dtypes: datetime64[ns](1), float64(1)\n",
      "memory usage: 3.0 KB\n"
     ]
    }
   ],
   "source": [
    "#sanity check: confirm types\n",
    "df_ip.info()"
   ]
  },
  {
   "cell_type": "code",
   "execution_count": 8,
   "metadata": {},
   "outputs": [
    {
     "data": {
      "text/html": [
       "<div>\n",
       "<style scoped>\n",
       "    .dataframe tbody tr th:only-of-type {\n",
       "        vertical-align: middle;\n",
       "    }\n",
       "\n",
       "    .dataframe tbody tr th {\n",
       "        vertical-align: top;\n",
       "    }\n",
       "\n",
       "    .dataframe thead th {\n",
       "        text-align: right;\n",
       "    }\n",
       "</style>\n",
       "<table border=\"1\" class=\"dataframe\">\n",
       "  <thead>\n",
       "    <tr style=\"text-align: right;\">\n",
       "      <th></th>\n",
       "      <th>Date</th>\n",
       "      <th>Price</th>\n",
       "      <th>Year</th>\n",
       "      <th>Month</th>\n",
       "    </tr>\n",
       "  </thead>\n",
       "  <tbody>\n",
       "    <tr>\n",
       "      <td>0</td>\n",
       "      <td>2005-01-01</td>\n",
       "      <td>570.0</td>\n",
       "      <td>2005</td>\n",
       "      <td>1</td>\n",
       "    </tr>\n",
       "    <tr>\n",
       "      <td>1</td>\n",
       "      <td>2005-02-01</td>\n",
       "      <td>570.0</td>\n",
       "      <td>2005</td>\n",
       "      <td>2</td>\n",
       "    </tr>\n",
       "    <tr>\n",
       "      <td>2</td>\n",
       "      <td>2005-03-01</td>\n",
       "      <td>610.0</td>\n",
       "      <td>2005</td>\n",
       "      <td>3</td>\n",
       "    </tr>\n",
       "    <tr>\n",
       "      <td>3</td>\n",
       "      <td>2005-04-01</td>\n",
       "      <td>600.0</td>\n",
       "      <td>2005</td>\n",
       "      <td>4</td>\n",
       "    </tr>\n",
       "    <tr>\n",
       "      <td>4</td>\n",
       "      <td>2005-05-01</td>\n",
       "      <td>570.0</td>\n",
       "      <td>2005</td>\n",
       "      <td>5</td>\n",
       "    </tr>\n",
       "  </tbody>\n",
       "</table>\n",
       "</div>"
      ],
      "text/plain": [
       "        Date  Price  Year  Month\n",
       "0 2005-01-01  570.0  2005      1\n",
       "1 2005-02-01  570.0  2005      2\n",
       "2 2005-03-01  610.0  2005      3\n",
       "3 2005-04-01  600.0  2005      4\n",
       "4 2005-05-01  570.0  2005      5"
      ]
     },
     "execution_count": 8,
     "metadata": {},
     "output_type": "execute_result"
    }
   ],
   "source": [
    "# create year \n",
    "df_ip['Year'] = df_ip['Date'].dt.year\n",
    "# create month\n",
    "df_ip['Month'] = df_ip['Date'].dt.month\n",
    "#check top rows\n",
    "df_ip.head()"
   ]
  },
  {
   "cell_type": "code",
   "execution_count": 9,
   "metadata": {},
   "outputs": [
    {
     "name": "stderr",
     "output_type": "stream",
     "text": [
      "/Applications/anaconda3/lib/python3.7/site-packages/pandas/plotting/_matplotlib/converter.py:103: FutureWarning: Using an implicitly registered datetime converter for a matplotlib plotting method. The converter was registered by pandas on import. Future versions of pandas will require you to explicitly register matplotlib converters.\n",
      "\n",
      "To register the converters:\n",
      "\t>>> from pandas.plotting import register_matplotlib_converters\n",
      "\t>>> register_matplotlib_converters()\n",
      "  warnings.warn(msg, FutureWarning)\n"
     ]
    },
    {
     "data": {
      "text/plain": [
       "Text(-2.450000000000003, 0.5, 'Ingredient Price')"
      ]
     },
     "execution_count": 9,
     "metadata": {},
     "output_type": "execute_result"
    },
    {
     "data": {
      "image/png": "[encoded data removed]",
      "text/plain": [
       "<Figure size 360x360 with 1 Axes>"
      ]
     },
     "metadata": {
      "needs_background": "light"
     },
     "output_type": "display_data"
    }
   ],
   "source": [
    "#check price over time\n",
    "sns.relplot(data=df_ip, x=\"Date\", y=\"Price\", kind=\"line\")\n",
    "plt.ylabel(\"Ingredient Price\")"
   ]
  },
  {
   "cell_type": "code",
   "execution_count": 10,
   "metadata": {},
   "outputs": [
    {
     "data": {
      "text/html": [
       "<div>\n",
       "<style scoped>\n",
       "    .dataframe tbody tr th:only-of-type {\n",
       "        vertical-align: middle;\n",
       "    }\n",
       "\n",
       "    .dataframe tbody tr th {\n",
       "        vertical-align: top;\n",
       "    }\n",
       "\n",
       "    .dataframe thead th {\n",
       "        text-align: right;\n",
       "    }\n",
       "</style>\n",
       "<table border=\"1\" class=\"dataframe\">\n",
       "  <thead>\n",
       "    <tr style=\"text-align: right;\">\n",
       "      <th></th>\n",
       "      <th>Date</th>\n",
       "      <th>Price</th>\n",
       "      <th>Year</th>\n",
       "      <th>Month</th>\n",
       "    </tr>\n",
       "  </thead>\n",
       "  <tbody>\n",
       "    <tr>\n",
       "      <td>179</td>\n",
       "      <td>2019-12-01</td>\n",
       "      <td>740.0</td>\n",
       "      <td>2019</td>\n",
       "      <td>12</td>\n",
       "    </tr>\n",
       "    <tr>\n",
       "      <td>180</td>\n",
       "      <td>2020-01-01</td>\n",
       "      <td>740.0</td>\n",
       "      <td>2020</td>\n",
       "      <td>1</td>\n",
       "    </tr>\n",
       "    <tr>\n",
       "      <td>181</td>\n",
       "      <td>2020-02-01</td>\n",
       "      <td>740.0</td>\n",
       "      <td>2020</td>\n",
       "      <td>2</td>\n",
       "    </tr>\n",
       "    <tr>\n",
       "      <td>182</td>\n",
       "      <td>2020-03-01</td>\n",
       "      <td>720.0</td>\n",
       "      <td>2020</td>\n",
       "      <td>3</td>\n",
       "    </tr>\n",
       "    <tr>\n",
       "      <td>183</td>\n",
       "      <td>2020-04-01</td>\n",
       "      <td>600.0</td>\n",
       "      <td>2020</td>\n",
       "      <td>4</td>\n",
       "    </tr>\n",
       "  </tbody>\n",
       "</table>\n",
       "</div>"
      ],
      "text/plain": [
       "          Date  Price  Year  Month\n",
       "179 2019-12-01  740.0  2019     12\n",
       "180 2020-01-01  740.0  2020      1\n",
       "181 2020-02-01  740.0  2020      2\n",
       "182 2020-03-01  720.0  2020      3\n",
       "183 2020-04-01  600.0  2020      4"
      ]
     },
     "execution_count": 10,
     "metadata": {},
     "output_type": "execute_result"
    }
   ],
   "source": [
    "#check last rows\n",
    "df_ip.tail()"
   ]
  },
  {
   "cell_type": "code",
   "execution_count": 11,
   "metadata": {},
   "outputs": [
    {
     "name": "stdout",
     "output_type": "stream",
     "text": [
      "(184, 4)\n"
     ]
    }
   ],
   "source": [
    "#check count rows and colomn count \n",
    "print(df_ip.shape)"
   ]
  },
  {
   "cell_type": "code",
   "execution_count": 12,
   "metadata": {},
   "outputs": [
    {
     "data": {
      "text/plain": [
       "2019    12\n",
       "2018    12\n",
       "2017    12\n",
       "2016    12\n",
       "2015    12\n",
       "2014    12\n",
       "2013    12\n",
       "2012    12\n",
       "2011    12\n",
       "2010    12\n",
       "2009    12\n",
       "2008    12\n",
       "2007    12\n",
       "2006    12\n",
       "2005    12\n",
       "2020     4\n",
       "Name: Year, dtype: int64"
      ]
     },
     "execution_count": 12,
     "metadata": {},
     "output_type": "execute_result"
    }
   ],
   "source": [
    "#counts show each year has 12 months except for 2020\n",
    "df_ip['Year'].value_counts(ascending=False)"
   ]
  },
  {
   "cell_type": "code",
   "execution_count": 13,
   "metadata": {},
   "outputs": [
    {
     "data": {
      "text/html": [
       "<div>\n",
       "<style scoped>\n",
       "    .dataframe tbody tr th:only-of-type {\n",
       "        vertical-align: middle;\n",
       "    }\n",
       "\n",
       "    .dataframe tbody tr th {\n",
       "        vertical-align: top;\n",
       "    }\n",
       "\n",
       "    .dataframe thead th {\n",
       "        text-align: right;\n",
       "    }\n",
       "</style>\n",
       "<table border=\"1\" class=\"dataframe\">\n",
       "  <thead>\n",
       "    <tr style=\"text-align: right;\">\n",
       "      <th></th>\n",
       "      <th>Price</th>\n",
       "      <th>Year</th>\n",
       "      <th>Month</th>\n",
       "    </tr>\n",
       "  </thead>\n",
       "  <tbody>\n",
       "    <tr>\n",
       "      <td>count</td>\n",
       "      <td>182.000000</td>\n",
       "      <td>184.000000</td>\n",
       "      <td>184.000000</td>\n",
       "    </tr>\n",
       "    <tr>\n",
       "      <td>mean</td>\n",
       "      <td>795.041209</td>\n",
       "      <td>2012.173913</td>\n",
       "      <td>6.413043</td>\n",
       "    </tr>\n",
       "    <tr>\n",
       "      <td>std</td>\n",
       "      <td>442.934750</td>\n",
       "      <td>4.441751</td>\n",
       "      <td>3.477177</td>\n",
       "    </tr>\n",
       "    <tr>\n",
       "      <td>min</td>\n",
       "      <td>460.000000</td>\n",
       "      <td>2005.000000</td>\n",
       "      <td>1.000000</td>\n",
       "    </tr>\n",
       "    <tr>\n",
       "      <td>25%</td>\n",
       "      <td>652.500000</td>\n",
       "      <td>2008.000000</td>\n",
       "      <td>3.000000</td>\n",
       "    </tr>\n",
       "    <tr>\n",
       "      <td>50%</td>\n",
       "      <td>720.000000</td>\n",
       "      <td>2012.000000</td>\n",
       "      <td>6.000000</td>\n",
       "    </tr>\n",
       "    <tr>\n",
       "      <td>75%</td>\n",
       "      <td>870.000000</td>\n",
       "      <td>2016.000000</td>\n",
       "      <td>9.000000</td>\n",
       "    </tr>\n",
       "    <tr>\n",
       "      <td>max</td>\n",
       "      <td>6400.000000</td>\n",
       "      <td>2020.000000</td>\n",
       "      <td>12.000000</td>\n",
       "    </tr>\n",
       "  </tbody>\n",
       "</table>\n",
       "</div>"
      ],
      "text/plain": [
       "             Price         Year       Month\n",
       "count   182.000000   184.000000  184.000000\n",
       "mean    795.041209  2012.173913    6.413043\n",
       "std     442.934750     4.441751    3.477177\n",
       "min     460.000000  2005.000000    1.000000\n",
       "25%     652.500000  2008.000000    3.000000\n",
       "50%     720.000000  2012.000000    6.000000\n",
       "75%     870.000000  2016.000000    9.000000\n",
       "max    6400.000000  2020.000000   12.000000"
      ]
     },
     "execution_count": 13,
     "metadata": {},
     "output_type": "execute_result"
    }
   ],
   "source": [
    "#summary statistics\n",
    "#month is from 1 - 12, year from 2005 - 2020, max is 6,400, and Price is missing 2 values\n",
    "df_ip.describe()"
   ]
  },
  {
   "cell_type": "code",
   "execution_count": 14,
   "metadata": {},
   "outputs": [
    {
     "data": {
      "text/html": [
       "<div>\n",
       "<style scoped>\n",
       "    .dataframe tbody tr th:only-of-type {\n",
       "        vertical-align: middle;\n",
       "    }\n",
       "\n",
       "    .dataframe tbody tr th {\n",
       "        vertical-align: top;\n",
       "    }\n",
       "\n",
       "    .dataframe thead th {\n",
       "        text-align: right;\n",
       "    }\n",
       "</style>\n",
       "<table border=\"1\" class=\"dataframe\">\n",
       "  <thead>\n",
       "    <tr style=\"text-align: right;\">\n",
       "      <th>Month</th>\n",
       "      <th>1</th>\n",
       "      <th>2</th>\n",
       "      <th>3</th>\n",
       "      <th>4</th>\n",
       "      <th>5</th>\n",
       "      <th>6</th>\n",
       "      <th>7</th>\n",
       "      <th>8</th>\n",
       "      <th>9</th>\n",
       "      <th>10</th>\n",
       "      <th>11</th>\n",
       "      <th>12</th>\n",
       "    </tr>\n",
       "    <tr>\n",
       "      <th>Year</th>\n",
       "      <th></th>\n",
       "      <th></th>\n",
       "      <th></th>\n",
       "      <th></th>\n",
       "      <th></th>\n",
       "      <th></th>\n",
       "      <th></th>\n",
       "      <th></th>\n",
       "      <th></th>\n",
       "      <th></th>\n",
       "      <th></th>\n",
       "      <th></th>\n",
       "    </tr>\n",
       "  </thead>\n",
       "  <tbody>\n",
       "    <tr>\n",
       "      <td>2005</td>\n",
       "      <td>570.0</td>\n",
       "      <td>570.0</td>\n",
       "      <td>610.0</td>\n",
       "      <td>600.0</td>\n",
       "      <td>570.0</td>\n",
       "      <td>590.0</td>\n",
       "      <td>650.0</td>\n",
       "      <td>650.0</td>\n",
       "      <td>700.0</td>\n",
       "      <td>670.0</td>\n",
       "      <td>600.0</td>\n",
       "      <td>580.0</td>\n",
       "    </tr>\n",
       "    <tr>\n",
       "      <td>2006</td>\n",
       "      <td>610.0</td>\n",
       "      <td>640.0</td>\n",
       "      <td>640.0</td>\n",
       "      <td>760.0</td>\n",
       "      <td>820.0</td>\n",
       "      <td>820.0</td>\n",
       "      <td>850.0</td>\n",
       "      <td>850.0</td>\n",
       "      <td>750.0</td>\n",
       "      <td>650.0</td>\n",
       "      <td>620.0</td>\n",
       "      <td>620.0</td>\n",
       "    </tr>\n",
       "    <tr>\n",
       "      <td>2007</td>\n",
       "      <td>640.0</td>\n",
       "      <td>640.0</td>\n",
       "      <td>640.0</td>\n",
       "      <td>680.0</td>\n",
       "      <td>680.0</td>\n",
       "      <td>710.0</td>\n",
       "      <td>710.0</td>\n",
       "      <td>690.0</td>\n",
       "      <td>690.0</td>\n",
       "      <td>660.0</td>\n",
       "      <td>660.0</td>\n",
       "      <td>680.0</td>\n",
       "    </tr>\n",
       "    <tr>\n",
       "      <td>2008</td>\n",
       "      <td>670.0</td>\n",
       "      <td>670.0</td>\n",
       "      <td>690.0</td>\n",
       "      <td>710.0</td>\n",
       "      <td>720.0</td>\n",
       "      <td>760.0</td>\n",
       "      <td>810.0</td>\n",
       "      <td>810.0</td>\n",
       "      <td>810.0</td>\n",
       "      <td>810.0</td>\n",
       "      <td>720.0</td>\n",
       "      <td>570.0</td>\n",
       "    </tr>\n",
       "    <tr>\n",
       "      <td>2009</td>\n",
       "      <td>490.0</td>\n",
       "      <td>460.0</td>\n",
       "      <td>460.0</td>\n",
       "      <td>490.0</td>\n",
       "      <td>520.0</td>\n",
       "      <td>550.0</td>\n",
       "      <td>650.0</td>\n",
       "      <td>650.0</td>\n",
       "      <td>630.0</td>\n",
       "      <td>630.0</td>\n",
       "      <td>620.0</td>\n",
       "      <td>620.0</td>\n",
       "    </tr>\n",
       "  </tbody>\n",
       "</table>\n",
       "</div>"
      ],
      "text/plain": [
       "Month     1      2      3      4      5      6      7      8      9      10  \\\n",
       "Year                                                                          \n",
       "2005   570.0  570.0  610.0  600.0  570.0  590.0  650.0  650.0  700.0  670.0   \n",
       "2006   610.0  640.0  640.0  760.0  820.0  820.0  850.0  850.0  750.0  650.0   \n",
       "2007   640.0  640.0  640.0  680.0  680.0  710.0  710.0  690.0  690.0  660.0   \n",
       "2008   670.0  670.0  690.0  710.0  720.0  760.0  810.0  810.0  810.0  810.0   \n",
       "2009   490.0  460.0  460.0  490.0  520.0  550.0  650.0  650.0  630.0  630.0   \n",
       "\n",
       "Month     11     12  \n",
       "Year                 \n",
       "2005   600.0  580.0  \n",
       "2006   620.0  620.0  \n",
       "2007   660.0  680.0  \n",
       "2008   720.0  570.0  \n",
       "2009   620.0  620.0  "
      ]
     },
     "execution_count": 14,
     "metadata": {},
     "output_type": "execute_result"
    }
   ],
   "source": [
    "price_pivot = df_ip.pivot(index=\"Year\", columns=\"Month\", values=\"Price\")\n",
    "price_pivot.head()"
   ]
  },
  {
   "cell_type": "code",
   "execution_count": 15,
   "metadata": {},
   "outputs": [
    {
     "data": {
      "text/plain": [
       "<matplotlib.axes._subplots.AxesSubplot at 0x7fd4d0316850>"
      ]
     },
     "execution_count": 15,
     "metadata": {},
     "output_type": "execute_result"
    },
    {
     "data": {
      "image/png": "[encoded data removed]",
      "text/plain": [
       "<Figure size 432x288 with 1 Axes>"
      ]
     },
     "metadata": {
      "needs_background": "light"
     },
     "output_type": "display_data"
    }
   ],
   "source": [
    "#row 135 (Feb 2016) shows the outlier 6,400\n",
    "df_ip.Price.plot(style='k.')"
   ]
  },
  {
   "cell_type": "code",
   "execution_count": 16,
   "metadata": {},
   "outputs": [
    {
     "data": {
      "text/plain": [
       "<seaborn.axisgrid.FacetGrid at 0x7fd4d0289fd0>"
      ]
     },
     "execution_count": 16,
     "metadata": {},
     "output_type": "execute_result"
    },
    {
     "data": {
      "image/png": "[encoded data removed]",
      "text/plain": [
       "<Figure size 360x360 with 1 Axes>"
      ]
     },
     "metadata": {
      "needs_background": "light"
     },
     "output_type": "display_data"
    }
   ],
   "source": [
    "#box plots show the price mean, medain, mode and feb had the max\n",
    "#month Marh and April have outliers\n",
    "#outliers = black points above the max (top line of box plot)\n",
    "sns.catplot(data=price_pivot, kind=\"box\")"
   ]
  },
  {
   "cell_type": "code",
   "execution_count": 17,
   "metadata": {},
   "outputs": [
    {
     "name": "stdout",
     "output_type": "stream",
     "text": [
      "          Date  Price  Year  Month\n",
      "0   2005-01-01  570.0  2005      1\n",
      "1   2005-02-01  570.0  2005      2\n",
      "2   2005-03-01  610.0  2005      3\n",
      "3   2005-04-01  600.0  2005      4\n",
      "4   2005-05-01  570.0  2005      5\n",
      "..         ...    ...   ...    ...\n",
      "179 2019-12-01  740.0  2019     12\n",
      "180 2020-01-01  740.0  2020      1\n",
      "181 2020-02-01  740.0  2020      2\n",
      "182 2020-03-01  720.0  2020      3\n",
      "183 2020-04-01  600.0  2020      4\n",
      "\n",
      "[184 rows x 4 columns]\n"
     ]
    }
   ],
   "source": [
    "#date 2005 - 2020\n",
    "df_ip.sort_values(by='Date')\n",
    "print(df_ip)"
   ]
  },
  {
   "cell_type": "markdown",
   "metadata": {},
   "source": [
    "## Same EDA for Oil Prices"
   ]
  },
  {
   "cell_type": "code",
   "execution_count": 18,
   "metadata": {},
   "outputs": [],
   "source": [
    "df_op = pd.read_csv('oil_prices.csv')"
   ]
  },
  {
   "cell_type": "code",
   "execution_count": 19,
   "metadata": {},
   "outputs": [
    {
     "data": {
      "text/html": [
       "<div>\n",
       "<style scoped>\n",
       "    .dataframe tbody tr th:only-of-type {\n",
       "        vertical-align: middle;\n",
       "    }\n",
       "\n",
       "    .dataframe tbody tr th {\n",
       "        vertical-align: top;\n",
       "    }\n",
       "\n",
       "    .dataframe thead th {\n",
       "        text-align: right;\n",
       "    }\n",
       "</style>\n",
       "<table border=\"1\" class=\"dataframe\">\n",
       "  <thead>\n",
       "    <tr style=\"text-align: right;\">\n",
       "      <th></th>\n",
       "      <th>Date</th>\n",
       "      <th>Price</th>\n",
       "    </tr>\n",
       "  </thead>\n",
       "  <tbody>\n",
       "    <tr>\n",
       "      <td>0</td>\n",
       "      <td>5/20/1987</td>\n",
       "      <td>18.63</td>\n",
       "    </tr>\n",
       "    <tr>\n",
       "      <td>1</td>\n",
       "      <td>5/21/1987</td>\n",
       "      <td>18.45</td>\n",
       "    </tr>\n",
       "    <tr>\n",
       "      <td>2</td>\n",
       "      <td>5/22/1987</td>\n",
       "      <td>18.55</td>\n",
       "    </tr>\n",
       "    <tr>\n",
       "      <td>3</td>\n",
       "      <td>5/25/1987</td>\n",
       "      <td>18.6</td>\n",
       "    </tr>\n",
       "    <tr>\n",
       "      <td>4</td>\n",
       "      <td>5/26/1987</td>\n",
       "      <td>18.63</td>\n",
       "    </tr>\n",
       "  </tbody>\n",
       "</table>\n",
       "</div>"
      ],
      "text/plain": [
       "        Date  Price\n",
       "0  5/20/1987  18.63\n",
       "1  5/21/1987  18.45\n",
       "2  5/22/1987  18.55\n",
       "3  5/25/1987   18.6\n",
       "4  5/26/1987  18.63"
      ]
     },
     "execution_count": 19,
     "metadata": {},
     "output_type": "execute_result"
    }
   ],
   "source": [
    "df_op.head()"
   ]
  },
  {
   "cell_type": "code",
   "execution_count": 20,
   "metadata": {},
   "outputs": [
    {
     "data": {
      "text/html": [
       "<div>\n",
       "<style scoped>\n",
       "    .dataframe tbody tr th:only-of-type {\n",
       "        vertical-align: middle;\n",
       "    }\n",
       "\n",
       "    .dataframe tbody tr th {\n",
       "        vertical-align: top;\n",
       "    }\n",
       "\n",
       "    .dataframe thead th {\n",
       "        text-align: right;\n",
       "    }\n",
       "</style>\n",
       "<table border=\"1\" class=\"dataframe\">\n",
       "  <thead>\n",
       "    <tr style=\"text-align: right;\">\n",
       "      <th></th>\n",
       "      <th>Date</th>\n",
       "      <th>Price</th>\n",
       "    </tr>\n",
       "  </thead>\n",
       "  <tbody>\n",
       "    <tr>\n",
       "      <td>8380</td>\n",
       "      <td>5/26/2020</td>\n",
       "      <td>33.95</td>\n",
       "    </tr>\n",
       "    <tr>\n",
       "      <td>8381</td>\n",
       "      <td>5/27/2020</td>\n",
       "      <td>32.73</td>\n",
       "    </tr>\n",
       "    <tr>\n",
       "      <td>8382</td>\n",
       "      <td>5/28/2020</td>\n",
       "      <td>33.98</td>\n",
       "    </tr>\n",
       "    <tr>\n",
       "      <td>8383</td>\n",
       "      <td>5/29/2020</td>\n",
       "      <td>34.15</td>\n",
       "    </tr>\n",
       "    <tr>\n",
       "      <td>8384</td>\n",
       "      <td>6/1/2020</td>\n",
       "      <td>36.74</td>\n",
       "    </tr>\n",
       "  </tbody>\n",
       "</table>\n",
       "</div>"
      ],
      "text/plain": [
       "           Date  Price\n",
       "8380  5/26/2020  33.95\n",
       "8381  5/27/2020  32.73\n",
       "8382  5/28/2020  33.98\n",
       "8383  5/29/2020  34.15\n",
       "8384   6/1/2020  36.74"
      ]
     },
     "execution_count": 20,
     "metadata": {},
     "output_type": "execute_result"
    }
   ],
   "source": [
    "df_op.tail()"
   ]
  },
  {
   "cell_type": "code",
   "execution_count": 21,
   "metadata": {},
   "outputs": [
    {
     "name": "stdout",
     "output_type": "stream",
     "text": [
      "<class 'pandas.core.frame.DataFrame'>\n",
      "RangeIndex: 8385 entries, 0 to 8384\n",
      "Data columns (total 2 columns):\n",
      "Date     8385 non-null object\n",
      "Price    8375 non-null object\n",
      "dtypes: object(2)\n",
      "memory usage: 131.1+ KB\n"
     ]
    }
   ],
   "source": [
    "df_op.info()"
   ]
  },
  {
   "cell_type": "code",
   "execution_count": 22,
   "metadata": {},
   "outputs": [],
   "source": [
    "df_op['Date'] = pd.to_datetime(df_op['Date'], errors='coerce')"
   ]
  },
  {
   "cell_type": "code",
   "execution_count": 23,
   "metadata": {},
   "outputs": [],
   "source": [
    "df_op['Price'] = pd.to_numeric(df_op['Price'],errors = 'coerce')"
   ]
  },
  {
   "cell_type": "code",
   "execution_count": 24,
   "metadata": {},
   "outputs": [
    {
     "name": "stdout",
     "output_type": "stream",
     "text": [
      "<class 'pandas.core.frame.DataFrame'>\n",
      "RangeIndex: 8385 entries, 0 to 8384\n",
      "Data columns (total 2 columns):\n",
      "Date     8385 non-null datetime64[ns]\n",
      "Price    8374 non-null float64\n",
      "dtypes: datetime64[ns](1), float64(1)\n",
      "memory usage: 131.1 KB\n"
     ]
    }
   ],
   "source": [
    "df_op.info()"
   ]
  },
  {
   "cell_type": "code",
   "execution_count": 25,
   "metadata": {},
   "outputs": [
    {
     "name": "stdout",
     "output_type": "stream",
     "text": [
      "(8385, 2)\n"
     ]
    }
   ],
   "source": [
    "print(df_op.shape)"
   ]
  },
  {
   "cell_type": "code",
   "execution_count": 26,
   "metadata": {},
   "outputs": [
    {
     "data": {
      "text/html": [
       "<div>\n",
       "<style scoped>\n",
       "    .dataframe tbody tr th:only-of-type {\n",
       "        vertical-align: middle;\n",
       "    }\n",
       "\n",
       "    .dataframe tbody tr th {\n",
       "        vertical-align: top;\n",
       "    }\n",
       "\n",
       "    .dataframe thead th {\n",
       "        text-align: right;\n",
       "    }\n",
       "</style>\n",
       "<table border=\"1\" class=\"dataframe\">\n",
       "  <thead>\n",
       "    <tr style=\"text-align: right;\">\n",
       "      <th></th>\n",
       "      <th>Price</th>\n",
       "    </tr>\n",
       "  </thead>\n",
       "  <tbody>\n",
       "    <tr>\n",
       "      <td>count</td>\n",
       "      <td>8374.000000</td>\n",
       "    </tr>\n",
       "    <tr>\n",
       "      <td>mean</td>\n",
       "      <td>46.955182</td>\n",
       "    </tr>\n",
       "    <tr>\n",
       "      <td>std</td>\n",
       "      <td>62.630176</td>\n",
       "    </tr>\n",
       "    <tr>\n",
       "      <td>min</td>\n",
       "      <td>9.100000</td>\n",
       "    </tr>\n",
       "    <tr>\n",
       "      <td>25%</td>\n",
       "      <td>18.772500</td>\n",
       "    </tr>\n",
       "    <tr>\n",
       "      <td>50%</td>\n",
       "      <td>31.625000</td>\n",
       "    </tr>\n",
       "    <tr>\n",
       "      <td>75%</td>\n",
       "      <td>66.910000</td>\n",
       "    </tr>\n",
       "    <tr>\n",
       "      <td>max</td>\n",
       "      <td>4946.000000</td>\n",
       "    </tr>\n",
       "  </tbody>\n",
       "</table>\n",
       "</div>"
      ],
      "text/plain": [
       "             Price\n",
       "count  8374.000000\n",
       "mean     46.955182\n",
       "std      62.630176\n",
       "min       9.100000\n",
       "25%      18.772500\n",
       "50%      31.625000\n",
       "75%      66.910000\n",
       "max    4946.000000"
      ]
     },
     "execution_count": 26,
     "metadata": {},
     "output_type": "execute_result"
    }
   ],
   "source": [
    "df_op.describe()"
   ]
  },
  {
   "cell_type": "code",
   "execution_count": 27,
   "metadata": {},
   "outputs": [
    {
     "data": {
      "text/html": [
       "<div>\n",
       "<style scoped>\n",
       "    .dataframe tbody tr th:only-of-type {\n",
       "        vertical-align: middle;\n",
       "    }\n",
       "\n",
       "    .dataframe tbody tr th {\n",
       "        vertical-align: top;\n",
       "    }\n",
       "\n",
       "    .dataframe thead th {\n",
       "        text-align: right;\n",
       "    }\n",
       "</style>\n",
       "<table border=\"1\" class=\"dataframe\">\n",
       "  <thead>\n",
       "    <tr style=\"text-align: right;\">\n",
       "      <th></th>\n",
       "      <th>Date</th>\n",
       "      <th>Price</th>\n",
       "      <th>Year</th>\n",
       "      <th>Month</th>\n",
       "    </tr>\n",
       "  </thead>\n",
       "  <tbody>\n",
       "    <tr>\n",
       "      <td>0</td>\n",
       "      <td>1987-05-20</td>\n",
       "      <td>18.63</td>\n",
       "      <td>1987</td>\n",
       "      <td>5</td>\n",
       "    </tr>\n",
       "    <tr>\n",
       "      <td>1</td>\n",
       "      <td>1987-05-21</td>\n",
       "      <td>18.45</td>\n",
       "      <td>1987</td>\n",
       "      <td>5</td>\n",
       "    </tr>\n",
       "    <tr>\n",
       "      <td>2</td>\n",
       "      <td>1987-05-22</td>\n",
       "      <td>18.55</td>\n",
       "      <td>1987</td>\n",
       "      <td>5</td>\n",
       "    </tr>\n",
       "    <tr>\n",
       "      <td>3</td>\n",
       "      <td>1987-05-25</td>\n",
       "      <td>18.60</td>\n",
       "      <td>1987</td>\n",
       "      <td>5</td>\n",
       "    </tr>\n",
       "    <tr>\n",
       "      <td>4</td>\n",
       "      <td>1987-05-26</td>\n",
       "      <td>18.63</td>\n",
       "      <td>1987</td>\n",
       "      <td>5</td>\n",
       "    </tr>\n",
       "  </tbody>\n",
       "</table>\n",
       "</div>"
      ],
      "text/plain": [
       "        Date  Price  Year  Month\n",
       "0 1987-05-20  18.63  1987      5\n",
       "1 1987-05-21  18.45  1987      5\n",
       "2 1987-05-22  18.55  1987      5\n",
       "3 1987-05-25  18.60  1987      5\n",
       "4 1987-05-26  18.63  1987      5"
      ]
     },
     "execution_count": 27,
     "metadata": {},
     "output_type": "execute_result"
    }
   ],
   "source": [
    "# create year \n",
    "df_op['Year'] = df_op['Date'].dt.year\n",
    "# create month\n",
    "df_op['Month'] = df_op['Date'].dt.month\n",
    "#check top rows\n",
    "df_op.head()"
   ]
  },
  {
   "cell_type": "code",
   "execution_count": 28,
   "metadata": {},
   "outputs": [
    {
     "data": {
      "text/plain": [
       "Text(-2.450000000000003, 0.5, 'Oil Price')"
      ]
     },
     "execution_count": 28,
     "metadata": {},
     "output_type": "execute_result"
    },
    {
     "data": {
      "image/png": "[encoded data removed]",
      "text/plain": [
       "<Figure size 360x360 with 1 Axes>"
      ]
     },
     "metadata": {
      "needs_background": "light"
     },
     "output_type": "display_data"
    }
   ],
   "source": [
    "#check price over time\n",
    "sns.relplot(data=df_op, x=\"Date\", y=\"Price\", kind=\"line\")\n",
    "plt.ylabel(\"Oil Price\")"
   ]
  },
  {
   "cell_type": "code",
   "execution_count": 29,
   "metadata": {},
   "outputs": [
    {
     "data": {
      "text/plain": [
       "2004    261\n",
       "2003    258\n",
       "2019    257\n",
       "2005    257\n",
       "2001    257\n",
       "1992    257\n",
       "1991    257\n",
       "2017    256\n",
       "1990    256\n",
       "2015    255\n",
       "2006    255\n",
       "2016    255\n",
       "1988    255\n",
       "2002    255\n",
       "1989    254\n",
       "2014    254\n",
       "1996    254\n",
       "2000    253\n",
       "2008    253\n",
       "1998    253\n",
       "1995    253\n",
       "2018    252\n",
       "2010    252\n",
       "1994    252\n",
       "2009    252\n",
       "1993    252\n",
       "2013    252\n",
       "2007    250\n",
       "2012    249\n",
       "1999    249\n",
       "2011    248\n",
       "1997    248\n",
       "1987    160\n",
       "2020    104\n",
       "Name: Year, dtype: int64"
      ]
     },
     "execution_count": 29,
     "metadata": {},
     "output_type": "execute_result"
    }
   ],
   "source": [
    "#counts show each year\n",
    "df_op['Year'].value_counts(ascending=False)"
   ]
  },
  {
   "cell_type": "code",
   "execution_count": 30,
   "metadata": {},
   "outputs": [
    {
     "data": {
      "text/plain": [
       "10    731\n",
       "8     723\n",
       "3     722\n",
       "7     718\n",
       "6     705\n",
       "5     705\n",
       "11    699\n",
       "9     697\n",
       "1     689\n",
       "12    674\n",
       "4     668\n",
       "2     654\n",
       "Name: Month, dtype: int64"
      ]
     },
     "execution_count": 30,
     "metadata": {},
     "output_type": "execute_result"
    }
   ],
   "source": [
    "#counts show each month\n",
    "df_op['Month'].value_counts(ascending=False)"
   ]
  },
  {
   "cell_type": "code",
   "execution_count": 31,
   "metadata": {},
   "outputs": [
    {
     "data": {
      "text/html": [
       "<div>\n",
       "<style scoped>\n",
       "    .dataframe tbody tr th:only-of-type {\n",
       "        vertical-align: middle;\n",
       "    }\n",
       "\n",
       "    .dataframe tbody tr th {\n",
       "        vertical-align: top;\n",
       "    }\n",
       "\n",
       "    .dataframe thead th {\n",
       "        text-align: right;\n",
       "    }\n",
       "</style>\n",
       "<table border=\"1\" class=\"dataframe\">\n",
       "  <thead>\n",
       "    <tr style=\"text-align: right;\">\n",
       "      <th></th>\n",
       "      <th>Price</th>\n",
       "      <th>Year</th>\n",
       "      <th>Month</th>\n",
       "    </tr>\n",
       "  </thead>\n",
       "  <tbody>\n",
       "    <tr>\n",
       "      <td>count</td>\n",
       "      <td>8374.000000</td>\n",
       "      <td>8385.000000</td>\n",
       "      <td>8385.000000</td>\n",
       "    </tr>\n",
       "    <tr>\n",
       "      <td>mean</td>\n",
       "      <td>46.955182</td>\n",
       "      <td>2003.380680</td>\n",
       "      <td>6.530710</td>\n",
       "    </tr>\n",
       "    <tr>\n",
       "      <td>std</td>\n",
       "      <td>62.630176</td>\n",
       "      <td>9.553254</td>\n",
       "      <td>3.427972</td>\n",
       "    </tr>\n",
       "    <tr>\n",
       "      <td>min</td>\n",
       "      <td>9.100000</td>\n",
       "      <td>1987.000000</td>\n",
       "      <td>1.000000</td>\n",
       "    </tr>\n",
       "    <tr>\n",
       "      <td>25%</td>\n",
       "      <td>18.772500</td>\n",
       "      <td>1995.000000</td>\n",
       "      <td>4.000000</td>\n",
       "    </tr>\n",
       "    <tr>\n",
       "      <td>50%</td>\n",
       "      <td>31.625000</td>\n",
       "      <td>2003.000000</td>\n",
       "      <td>7.000000</td>\n",
       "    </tr>\n",
       "    <tr>\n",
       "      <td>75%</td>\n",
       "      <td>66.910000</td>\n",
       "      <td>2012.000000</td>\n",
       "      <td>10.000000</td>\n",
       "    </tr>\n",
       "    <tr>\n",
       "      <td>max</td>\n",
       "      <td>4946.000000</td>\n",
       "      <td>2020.000000</td>\n",
       "      <td>12.000000</td>\n",
       "    </tr>\n",
       "  </tbody>\n",
       "</table>\n",
       "</div>"
      ],
      "text/plain": [
       "             Price         Year        Month\n",
       "count  8374.000000  8385.000000  8385.000000\n",
       "mean     46.955182  2003.380680     6.530710\n",
       "std      62.630176     9.553254     3.427972\n",
       "min       9.100000  1987.000000     1.000000\n",
       "25%      18.772500  1995.000000     4.000000\n",
       "50%      31.625000  2003.000000     7.000000\n",
       "75%      66.910000  2012.000000    10.000000\n",
       "max    4946.000000  2020.000000    12.000000"
      ]
     },
     "execution_count": 31,
     "metadata": {},
     "output_type": "execute_result"
    }
   ],
   "source": [
    "#summary statistics\n",
    "#month is from 1 - 12, year from 1987 - 2020, max is 4,946, and Price is missing 39 values\n",
    "df_op.describe()"
   ]
  },
  {
   "cell_type": "code",
   "execution_count": 32,
   "metadata": {},
   "outputs": [
    {
     "data": {
      "text/plain": [
       "<matplotlib.axes._subplots.AxesSubplot at 0x7fd4d0a41790>"
      ]
     },
     "execution_count": 32,
     "metadata": {},
     "output_type": "execute_result"
    },
    {
     "data": {
      "image/png": "[encoded data removed]",
      "text/plain": [
       "<Figure size 432x288 with 1 Axes>"
      ]
     },
     "metadata": {
      "needs_background": "light"
     },
     "output_type": "display_data"
    }
   ],
   "source": [
    "#row 7599 (Apr 2017) shows the outlier 4,946\n",
    "df_op.Price.plot(style='k.')"
   ]
  },
  {
   "cell_type": "code",
   "execution_count": 33,
   "metadata": {},
   "outputs": [],
   "source": [
    "op_price_pivot=df_op.pivot_table(index='Year', columns='Month', values='Price', aggfunc='mean')"
   ]
  },
  {
   "cell_type": "code",
   "execution_count": 34,
   "metadata": {},
   "outputs": [
    {
     "data": {
      "text/plain": [
       "<seaborn.axisgrid.FacetGrid at 0x7fd4d115f850>"
      ]
     },
     "execution_count": 34,
     "metadata": {},
     "output_type": "execute_result"
    },
    {
     "data": {
      "image/png": "[encoded data removed]",
      "text/plain": [
       "<Figure size 360x360 with 1 Axes>"
      ]
     },
     "metadata": {
      "needs_background": "light"
     },
     "output_type": "display_data"
    }
   ],
   "source": [
    "#box plots show the price mean, medain, mode and feb had the max\n",
    "#April has an outlier\n",
    "#outliers = black points above the max (top line of box plot)\n",
    "sns.catplot(data=op_price_pivot, kind=\"box\")"
   ]
  },
  {
   "cell_type": "markdown",
   "metadata": {},
   "source": [
    "## Merge Ingredient and Oil Price at 2005 Year and Greater to Determine Correlations  (with outliers and missing values)\n",
    "\n",
    "    - "
   ]
  },
  {
   "cell_type": "code",
   "execution_count": 35,
   "metadata": {},
   "outputs": [],
   "source": [
    "merged_df = df_ip.merge(df_op, how='inner', left_on=[\"Month\", \"Year\"], right_on=[\"Month\",\"Year\"])"
   ]
  },
  {
   "cell_type": "code",
   "execution_count": 36,
   "metadata": {},
   "outputs": [
    {
     "data": {
      "text/html": [
       "<div>\n",
       "<style scoped>\n",
       "    .dataframe tbody tr th:only-of-type {\n",
       "        vertical-align: middle;\n",
       "    }\n",
       "\n",
       "    .dataframe tbody tr th {\n",
       "        vertical-align: top;\n",
       "    }\n",
       "\n",
       "    .dataframe thead th {\n",
       "        text-align: right;\n",
       "    }\n",
       "</style>\n",
       "<table border=\"1\" class=\"dataframe\">\n",
       "  <thead>\n",
       "    <tr style=\"text-align: right;\">\n",
       "      <th></th>\n",
       "      <th>Date_x</th>\n",
       "      <th>Price_x</th>\n",
       "      <th>Year</th>\n",
       "      <th>Month</th>\n",
       "      <th>Date_y</th>\n",
       "      <th>Price_y</th>\n",
       "    </tr>\n",
       "  </thead>\n",
       "  <tbody>\n",
       "    <tr>\n",
       "      <td>0</td>\n",
       "      <td>2005-01-01</td>\n",
       "      <td>570.0</td>\n",
       "      <td>2005</td>\n",
       "      <td>1</td>\n",
       "      <td>2005-01-04</td>\n",
       "      <td>40.75</td>\n",
       "    </tr>\n",
       "    <tr>\n",
       "      <td>1</td>\n",
       "      <td>2005-01-01</td>\n",
       "      <td>570.0</td>\n",
       "      <td>2005</td>\n",
       "      <td>1</td>\n",
       "      <td>2005-01-05</td>\n",
       "      <td>41.00</td>\n",
       "    </tr>\n",
       "    <tr>\n",
       "      <td>2</td>\n",
       "      <td>2005-01-01</td>\n",
       "      <td>570.0</td>\n",
       "      <td>2005</td>\n",
       "      <td>1</td>\n",
       "      <td>2005-01-06</td>\n",
       "      <td>43.25</td>\n",
       "    </tr>\n",
       "    <tr>\n",
       "      <td>3</td>\n",
       "      <td>2005-01-01</td>\n",
       "      <td>570.0</td>\n",
       "      <td>2005</td>\n",
       "      <td>1</td>\n",
       "      <td>2005-01-07</td>\n",
       "      <td>43.28</td>\n",
       "    </tr>\n",
       "    <tr>\n",
       "      <td>4</td>\n",
       "      <td>2005-01-01</td>\n",
       "      <td>570.0</td>\n",
       "      <td>2005</td>\n",
       "      <td>1</td>\n",
       "      <td>2005-01-10</td>\n",
       "      <td>44.71</td>\n",
       "    </tr>\n",
       "    <tr>\n",
       "      <td>...</td>\n",
       "      <td>...</td>\n",
       "      <td>...</td>\n",
       "      <td>...</td>\n",
       "      <td>...</td>\n",
       "      <td>...</td>\n",
       "      <td>...</td>\n",
       "    </tr>\n",
       "    <tr>\n",
       "      <td>3876</td>\n",
       "      <td>2020-04-01</td>\n",
       "      <td>600.0</td>\n",
       "      <td>2020</td>\n",
       "      <td>4</td>\n",
       "      <td>2020-04-24</td>\n",
       "      <td>15.87</td>\n",
       "    </tr>\n",
       "    <tr>\n",
       "      <td>3877</td>\n",
       "      <td>2020-04-01</td>\n",
       "      <td>600.0</td>\n",
       "      <td>2020</td>\n",
       "      <td>4</td>\n",
       "      <td>2020-04-27</td>\n",
       "      <td>15.17</td>\n",
       "    </tr>\n",
       "    <tr>\n",
       "      <td>3878</td>\n",
       "      <td>2020-04-01</td>\n",
       "      <td>600.0</td>\n",
       "      <td>2020</td>\n",
       "      <td>4</td>\n",
       "      <td>2020-04-28</td>\n",
       "      <td>15.60</td>\n",
       "    </tr>\n",
       "    <tr>\n",
       "      <td>3879</td>\n",
       "      <td>2020-04-01</td>\n",
       "      <td>600.0</td>\n",
       "      <td>2020</td>\n",
       "      <td>4</td>\n",
       "      <td>2020-04-29</td>\n",
       "      <td>17.86</td>\n",
       "    </tr>\n",
       "    <tr>\n",
       "      <td>3880</td>\n",
       "      <td>2020-04-01</td>\n",
       "      <td>600.0</td>\n",
       "      <td>2020</td>\n",
       "      <td>4</td>\n",
       "      <td>2020-04-30</td>\n",
       "      <td>18.11</td>\n",
       "    </tr>\n",
       "  </tbody>\n",
       "</table>\n",
       "<p>3881 rows × 6 columns</p>\n",
       "</div>"
      ],
      "text/plain": [
       "         Date_x  Price_x  Year  Month     Date_y  Price_y\n",
       "0    2005-01-01    570.0  2005      1 2005-01-04    40.75\n",
       "1    2005-01-01    570.0  2005      1 2005-01-05    41.00\n",
       "2    2005-01-01    570.0  2005      1 2005-01-06    43.25\n",
       "3    2005-01-01    570.0  2005      1 2005-01-07    43.28\n",
       "4    2005-01-01    570.0  2005      1 2005-01-10    44.71\n",
       "...         ...      ...   ...    ...        ...      ...\n",
       "3876 2020-04-01    600.0  2020      4 2020-04-24    15.87\n",
       "3877 2020-04-01    600.0  2020      4 2020-04-27    15.17\n",
       "3878 2020-04-01    600.0  2020      4 2020-04-28    15.60\n",
       "3879 2020-04-01    600.0  2020      4 2020-04-29    17.86\n",
       "3880 2020-04-01    600.0  2020      4 2020-04-30    18.11\n",
       "\n",
       "[3881 rows x 6 columns]"
      ]
     },
     "execution_count": 36,
     "metadata": {},
     "output_type": "execute_result"
    }
   ],
   "source": [
    "merged_df"
   ]
  },
  {
   "cell_type": "code",
   "execution_count": 37,
   "metadata": {},
   "outputs": [
    {
     "name": "stdout",
     "output_type": "stream",
     "text": [
      "<class 'pandas.core.frame.DataFrame'>\n",
      "Int64Index: 3881 entries, 0 to 3880\n",
      "Data columns (total 6 columns):\n",
      "Date_x     3881 non-null datetime64[ns]\n",
      "Price_x    3839 non-null float64\n",
      "Year       3881 non-null int64\n",
      "Month      3881 non-null int64\n",
      "Date_y     3881 non-null datetime64[ns]\n",
      "Price_y    3871 non-null float64\n",
      "dtypes: datetime64[ns](2), float64(2), int64(2)\n",
      "memory usage: 212.2 KB\n"
     ]
    }
   ],
   "source": [
    "merged_df.info()"
   ]
  },
  {
   "cell_type": "code",
   "execution_count": 38,
   "metadata": {},
   "outputs": [
    {
     "data": {
      "text/html": [
       "<div>\n",
       "<style scoped>\n",
       "    .dataframe tbody tr th:only-of-type {\n",
       "        vertical-align: middle;\n",
       "    }\n",
       "\n",
       "    .dataframe tbody tr th {\n",
       "        vertical-align: top;\n",
       "    }\n",
       "\n",
       "    .dataframe thead th {\n",
       "        text-align: right;\n",
       "    }\n",
       "</style>\n",
       "<table border=\"1\" class=\"dataframe\">\n",
       "  <thead>\n",
       "    <tr style=\"text-align: right;\">\n",
       "      <th></th>\n",
       "      <th>Price_x</th>\n",
       "      <th>Year</th>\n",
       "      <th>Month</th>\n",
       "      <th>Price_y</th>\n",
       "    </tr>\n",
       "  </thead>\n",
       "  <tbody>\n",
       "    <tr>\n",
       "      <td>Price_x</td>\n",
       "      <td>1.000000</td>\n",
       "      <td>0.125253</td>\n",
       "      <td>-0.058594</td>\n",
       "      <td>0.038601</td>\n",
       "    </tr>\n",
       "    <tr>\n",
       "      <td>Year</td>\n",
       "      <td>0.125253</td>\n",
       "      <td>1.000000</td>\n",
       "      <td>-0.047415</td>\n",
       "      <td>-0.032960</td>\n",
       "    </tr>\n",
       "    <tr>\n",
       "      <td>Month</td>\n",
       "      <td>-0.058594</td>\n",
       "      <td>-0.047415</td>\n",
       "      <td>1.000000</td>\n",
       "      <td>0.000842</td>\n",
       "    </tr>\n",
       "    <tr>\n",
       "      <td>Price_y</td>\n",
       "      <td>0.038601</td>\n",
       "      <td>-0.032960</td>\n",
       "      <td>0.000842</td>\n",
       "      <td>1.000000</td>\n",
       "    </tr>\n",
       "  </tbody>\n",
       "</table>\n",
       "</div>"
      ],
      "text/plain": [
       "          Price_x      Year     Month   Price_y\n",
       "Price_x  1.000000  0.125253 -0.058594  0.038601\n",
       "Year     0.125253  1.000000 -0.047415 -0.032960\n",
       "Month   -0.058594 -0.047415  1.000000  0.000842\n",
       "Price_y  0.038601 -0.032960  0.000842  1.000000"
      ]
     },
     "execution_count": 38,
     "metadata": {},
     "output_type": "execute_result"
    }
   ],
   "source": [
    "merged_df.corr()"
   ]
  },
  {
   "cell_type": "code",
   "execution_count": 39,
   "metadata": {},
   "outputs": [
    {
     "data": {
      "image/png": "[encoded data removed]",
      "text/plain": [
       "<Figure size 432x288 with 2 Axes>"
      ]
     },
     "metadata": {
      "needs_background": "light"
     },
     "output_type": "display_data"
    }
   ],
   "source": [
    "sns.heatmap(merged_df.corr());"
   ]
  },
  {
   "cell_type": "markdown",
   "metadata": {},
   "source": [
    "# Removed Outliers and nine missing points: Seem to Have Been Keyed Incorrectly but Further Investigation Needs to be Completed (are these manual entries or how is this data gathered)"
   ]
  },
  {
   "cell_type": "code",
   "execution_count": 40,
   "metadata": {},
   "outputs": [],
   "source": [
    "df_ip = pd.read_csv('ingredient_prices-Copy1.csv')"
   ]
  },
  {
   "cell_type": "code",
   "execution_count": 41,
   "metadata": {},
   "outputs": [],
   "source": [
    "df_op = pd.read_csv('oil_prices-Copy1.csv')"
   ]
  },
  {
   "cell_type": "code",
   "execution_count": 42,
   "metadata": {},
   "outputs": [],
   "source": [
    "df_ip['Date'] = pd.to_datetime(df_ip['Date'], errors='coerce')"
   ]
  },
  {
   "cell_type": "code",
   "execution_count": 43,
   "metadata": {},
   "outputs": [],
   "source": [
    "df_ip['Price'] = pd.to_numeric(df_ip['Price'],errors = 'coerce')"
   ]
  },
  {
   "cell_type": "code",
   "execution_count": 44,
   "metadata": {},
   "outputs": [],
   "source": [
    "df_op['Date'] = pd.to_datetime(df_op['Date'], errors='coerce')"
   ]
  },
  {
   "cell_type": "code",
   "execution_count": 45,
   "metadata": {},
   "outputs": [],
   "source": [
    "df_op['Price'] = pd.to_numeric(df_op['Price'],errors = 'coerce')"
   ]
  },
  {
   "cell_type": "code",
   "execution_count": 46,
   "metadata": {},
   "outputs": [
    {
     "data": {
      "text/html": [
       "<div>\n",
       "<style scoped>\n",
       "    .dataframe tbody tr th:only-of-type {\n",
       "        vertical-align: middle;\n",
       "    }\n",
       "\n",
       "    .dataframe tbody tr th {\n",
       "        vertical-align: top;\n",
       "    }\n",
       "\n",
       "    .dataframe thead th {\n",
       "        text-align: right;\n",
       "    }\n",
       "</style>\n",
       "<table border=\"1\" class=\"dataframe\">\n",
       "  <thead>\n",
       "    <tr style=\"text-align: right;\">\n",
       "      <th></th>\n",
       "      <th>Date</th>\n",
       "      <th>Price</th>\n",
       "      <th>Year</th>\n",
       "      <th>Month</th>\n",
       "    </tr>\n",
       "  </thead>\n",
       "  <tbody>\n",
       "    <tr>\n",
       "      <td>0</td>\n",
       "      <td>2005-01-01</td>\n",
       "      <td>570.0</td>\n",
       "      <td>2005</td>\n",
       "      <td>1</td>\n",
       "    </tr>\n",
       "    <tr>\n",
       "      <td>1</td>\n",
       "      <td>2005-02-01</td>\n",
       "      <td>570.0</td>\n",
       "      <td>2005</td>\n",
       "      <td>2</td>\n",
       "    </tr>\n",
       "    <tr>\n",
       "      <td>2</td>\n",
       "      <td>2005-03-01</td>\n",
       "      <td>610.0</td>\n",
       "      <td>2005</td>\n",
       "      <td>3</td>\n",
       "    </tr>\n",
       "    <tr>\n",
       "      <td>3</td>\n",
       "      <td>2005-04-01</td>\n",
       "      <td>600.0</td>\n",
       "      <td>2005</td>\n",
       "      <td>4</td>\n",
       "    </tr>\n",
       "    <tr>\n",
       "      <td>4</td>\n",
       "      <td>2005-05-01</td>\n",
       "      <td>570.0</td>\n",
       "      <td>2005</td>\n",
       "      <td>5</td>\n",
       "    </tr>\n",
       "  </tbody>\n",
       "</table>\n",
       "</div>"
      ],
      "text/plain": [
       "        Date  Price  Year  Month\n",
       "0 2005-01-01  570.0  2005      1\n",
       "1 2005-02-01  570.0  2005      2\n",
       "2 2005-03-01  610.0  2005      3\n",
       "3 2005-04-01  600.0  2005      4\n",
       "4 2005-05-01  570.0  2005      5"
      ]
     },
     "execution_count": 46,
     "metadata": {},
     "output_type": "execute_result"
    }
   ],
   "source": [
    "# create year \n",
    "df_ip['Year'] = df_ip['Date'].dt.year\n",
    "# create month\n",
    "df_ip['Month'] = df_ip['Date'].dt.month\n",
    "#check top rows\n",
    "df_ip.head()"
   ]
  },
  {
   "cell_type": "code",
   "execution_count": 47,
   "metadata": {},
   "outputs": [
    {
     "data": {
      "text/html": [
       "<div>\n",
       "<style scoped>\n",
       "    .dataframe tbody tr th:only-of-type {\n",
       "        vertical-align: middle;\n",
       "    }\n",
       "\n",
       "    .dataframe tbody tr th {\n",
       "        vertical-align: top;\n",
       "    }\n",
       "\n",
       "    .dataframe thead th {\n",
       "        text-align: right;\n",
       "    }\n",
       "</style>\n",
       "<table border=\"1\" class=\"dataframe\">\n",
       "  <thead>\n",
       "    <tr style=\"text-align: right;\">\n",
       "      <th></th>\n",
       "      <th>Date</th>\n",
       "      <th>Price</th>\n",
       "      <th>Year</th>\n",
       "      <th>Month</th>\n",
       "    </tr>\n",
       "  </thead>\n",
       "  <tbody>\n",
       "    <tr>\n",
       "      <td>0</td>\n",
       "      <td>1987-05-20</td>\n",
       "      <td>18.63</td>\n",
       "      <td>1987</td>\n",
       "      <td>5</td>\n",
       "    </tr>\n",
       "    <tr>\n",
       "      <td>1</td>\n",
       "      <td>1987-05-21</td>\n",
       "      <td>18.45</td>\n",
       "      <td>1987</td>\n",
       "      <td>5</td>\n",
       "    </tr>\n",
       "    <tr>\n",
       "      <td>2</td>\n",
       "      <td>1987-05-22</td>\n",
       "      <td>18.55</td>\n",
       "      <td>1987</td>\n",
       "      <td>5</td>\n",
       "    </tr>\n",
       "    <tr>\n",
       "      <td>3</td>\n",
       "      <td>1987-05-25</td>\n",
       "      <td>18.60</td>\n",
       "      <td>1987</td>\n",
       "      <td>5</td>\n",
       "    </tr>\n",
       "    <tr>\n",
       "      <td>4</td>\n",
       "      <td>1987-05-26</td>\n",
       "      <td>18.63</td>\n",
       "      <td>1987</td>\n",
       "      <td>5</td>\n",
       "    </tr>\n",
       "  </tbody>\n",
       "</table>\n",
       "</div>"
      ],
      "text/plain": [
       "        Date  Price  Year  Month\n",
       "0 1987-05-20  18.63  1987      5\n",
       "1 1987-05-21  18.45  1987      5\n",
       "2 1987-05-22  18.55  1987      5\n",
       "3 1987-05-25  18.60  1987      5\n",
       "4 1987-05-26  18.63  1987      5"
      ]
     },
     "execution_count": 47,
     "metadata": {},
     "output_type": "execute_result"
    }
   ],
   "source": [
    "# create year \n",
    "df_op['Year'] = df_op['Date'].dt.year\n",
    "# create month\n",
    "df_op['Month'] = df_op['Date'].dt.month\n",
    "#check top rows\n",
    "df_op.head()"
   ]
  },
  {
   "cell_type": "code",
   "execution_count": 48,
   "metadata": {},
   "outputs": [],
   "source": [
    "#joining data based on month and year\n",
    "merged_df2 = df_ip.merge(df_op, how='inner', left_on=[\"Month\", \"Year\"], right_on=[\"Month\",\"Year\"])"
   ]
  },
  {
   "cell_type": "code",
   "execution_count": 49,
   "metadata": {},
   "outputs": [
    {
     "data": {
      "text/html": [
       "<div>\n",
       "<style scoped>\n",
       "    .dataframe tbody tr th:only-of-type {\n",
       "        vertical-align: middle;\n",
       "    }\n",
       "\n",
       "    .dataframe tbody tr th {\n",
       "        vertical-align: top;\n",
       "    }\n",
       "\n",
       "    .dataframe thead th {\n",
       "        text-align: right;\n",
       "    }\n",
       "</style>\n",
       "<table border=\"1\" class=\"dataframe\">\n",
       "  <thead>\n",
       "    <tr style=\"text-align: right;\">\n",
       "      <th></th>\n",
       "      <th>Date_x</th>\n",
       "      <th>Price_x</th>\n",
       "      <th>Year</th>\n",
       "      <th>Month</th>\n",
       "      <th>Date_y</th>\n",
       "      <th>Price_y</th>\n",
       "    </tr>\n",
       "  </thead>\n",
       "  <tbody>\n",
       "    <tr>\n",
       "      <td>0</td>\n",
       "      <td>2005-01-01</td>\n",
       "      <td>570.0</td>\n",
       "      <td>2005</td>\n",
       "      <td>1</td>\n",
       "      <td>2005-01-04</td>\n",
       "      <td>40.75</td>\n",
       "    </tr>\n",
       "    <tr>\n",
       "      <td>1</td>\n",
       "      <td>2005-01-01</td>\n",
       "      <td>570.0</td>\n",
       "      <td>2005</td>\n",
       "      <td>1</td>\n",
       "      <td>2005-01-05</td>\n",
       "      <td>41.00</td>\n",
       "    </tr>\n",
       "    <tr>\n",
       "      <td>2</td>\n",
       "      <td>2005-01-01</td>\n",
       "      <td>570.0</td>\n",
       "      <td>2005</td>\n",
       "      <td>1</td>\n",
       "      <td>2005-01-06</td>\n",
       "      <td>43.25</td>\n",
       "    </tr>\n",
       "    <tr>\n",
       "      <td>3</td>\n",
       "      <td>2005-01-01</td>\n",
       "      <td>570.0</td>\n",
       "      <td>2005</td>\n",
       "      <td>1</td>\n",
       "      <td>2005-01-07</td>\n",
       "      <td>43.28</td>\n",
       "    </tr>\n",
       "    <tr>\n",
       "      <td>4</td>\n",
       "      <td>2005-01-01</td>\n",
       "      <td>570.0</td>\n",
       "      <td>2005</td>\n",
       "      <td>1</td>\n",
       "      <td>2005-01-10</td>\n",
       "      <td>44.71</td>\n",
       "    </tr>\n",
       "  </tbody>\n",
       "</table>\n",
       "</div>"
      ],
      "text/plain": [
       "      Date_x  Price_x  Year  Month     Date_y  Price_y\n",
       "0 2005-01-01    570.0  2005      1 2005-01-04    40.75\n",
       "1 2005-01-01    570.0  2005      1 2005-01-05    41.00\n",
       "2 2005-01-01    570.0  2005      1 2005-01-06    43.25\n",
       "3 2005-01-01    570.0  2005      1 2005-01-07    43.28\n",
       "4 2005-01-01    570.0  2005      1 2005-01-10    44.71"
      ]
     },
     "execution_count": 49,
     "metadata": {},
     "output_type": "execute_result"
    }
   ],
   "source": [
    "merged_df2.head()"
   ]
  },
  {
   "cell_type": "code",
   "execution_count": 50,
   "metadata": {},
   "outputs": [
    {
     "data": {
      "text/html": [
       "<div>\n",
       "<style scoped>\n",
       "    .dataframe tbody tr th:only-of-type {\n",
       "        vertical-align: middle;\n",
       "    }\n",
       "\n",
       "    .dataframe tbody tr th {\n",
       "        vertical-align: top;\n",
       "    }\n",
       "\n",
       "    .dataframe thead th {\n",
       "        text-align: right;\n",
       "    }\n",
       "</style>\n",
       "<table border=\"1\" class=\"dataframe\">\n",
       "  <thead>\n",
       "    <tr style=\"text-align: right;\">\n",
       "      <th></th>\n",
       "      <th>Price_x</th>\n",
       "      <th>Year</th>\n",
       "      <th>Month</th>\n",
       "      <th>Price_y</th>\n",
       "    </tr>\n",
       "  </thead>\n",
       "  <tbody>\n",
       "    <tr>\n",
       "      <td>Price_x</td>\n",
       "      <td>1.000000</td>\n",
       "      <td>0.197610</td>\n",
       "      <td>0.087782</td>\n",
       "      <td>0.744125</td>\n",
       "    </tr>\n",
       "    <tr>\n",
       "      <td>Year</td>\n",
       "      <td>0.197610</td>\n",
       "      <td>1.000000</td>\n",
       "      <td>-0.048059</td>\n",
       "      <td>-0.155679</td>\n",
       "    </tr>\n",
       "    <tr>\n",
       "      <td>Month</td>\n",
       "      <td>0.087782</td>\n",
       "      <td>-0.048059</td>\n",
       "      <td>1.000000</td>\n",
       "      <td>0.015697</td>\n",
       "    </tr>\n",
       "    <tr>\n",
       "      <td>Price_y</td>\n",
       "      <td>0.744125</td>\n",
       "      <td>-0.155679</td>\n",
       "      <td>0.015697</td>\n",
       "      <td>1.000000</td>\n",
       "    </tr>\n",
       "  </tbody>\n",
       "</table>\n",
       "</div>"
      ],
      "text/plain": [
       "          Price_x      Year     Month   Price_y\n",
       "Price_x  1.000000  0.197610  0.087782  0.744125\n",
       "Year     0.197610  1.000000 -0.048059 -0.155679\n",
       "Month    0.087782 -0.048059  1.000000  0.015697\n",
       "Price_y  0.744125 -0.155679  0.015697  1.000000"
      ]
     },
     "execution_count": 50,
     "metadata": {},
     "output_type": "execute_result"
    }
   ],
   "source": [
    "merged_df2.corr()"
   ]
  },
  {
   "cell_type": "code",
   "execution_count": 51,
   "metadata": {
    "scrolled": true
   },
   "outputs": [
    {
     "data": {
      "image/png": "[encoded data removed]",
      "text/plain": [
       "<Figure size 432x288 with 2 Axes>"
      ]
     },
     "metadata": {
      "needs_background": "light"
     },
     "output_type": "display_data"
    }
   ],
   "source": [
    "#showing still no correlation without outliers\n",
    "sns.heatmap(merged_df.corr());"
   ]
  },
  {
   "cell_type": "code",
   "execution_count": 52,
   "metadata": {},
   "outputs": [
    {
     "data": {
      "text/plain": [
       "<matplotlib.axes._subplots.AxesSubplot at 0x7fd4d1969110>"
      ]
     },
     "execution_count": 52,
     "metadata": {},
     "output_type": "execute_result"
    },
    {
     "data": {
      "image/png": "[encoded data removed]",
      "text/plain": [
       "<Figure size 432x288 with 1 Axes>"
      ]
     },
     "metadata": {
      "needs_background": "light"
     },
     "output_type": "display_data"
    }
   ],
   "source": [
    "sns.lineplot(data=merged_df2, x=\"Year\", y=\"Price_x\")"
   ]
  },
  {
   "cell_type": "code",
   "execution_count": 53,
   "metadata": {},
   "outputs": [
    {
     "data": {
      "text/plain": [
       "<matplotlib.axes._subplots.AxesSubplot at 0x7fd4d124d610>"
      ]
     },
     "execution_count": 53,
     "metadata": {},
     "output_type": "execute_result"
    },
    {
     "data": {
      "image/png": "[encoded data removed]",
      "text/plain": [
       "<Figure size 432x288 with 1 Axes>"
      ]
     },
     "metadata": {
      "needs_background": "light"
     },
     "output_type": "display_data"
    }
   ],
   "source": [
    "sns.lineplot(data=merged_df2, x=\"Year\", y=\"Price_y\")"
   ]
  },
  {
   "cell_type": "code",
   "execution_count": 54,
   "metadata": {},
   "outputs": [
    {
     "data": {
      "text/plain": [
       "<matplotlib.axes._subplots.AxesSubplot at 0x7fd4d1969350>"
      ]
     },
     "execution_count": 54,
     "metadata": {},
     "output_type": "execute_result"
    },
    {
     "data": {
      "image/png": "[encoded data removed]",
      "text/plain": [
       "<Figure size 432x288 with 1 Axes>"
      ]
     },
     "metadata": {
      "needs_background": "light"
     },
     "output_type": "display_data"
    }
   ],
   "source": [
    "#2020 goes down in April because that is the last data point\n",
    "sns.lineplot(data=merged_df2, x=\"Month\", y=\"Price_y\", hue=\"Year\")"
   ]
  },
  {
   "cell_type": "code",
   "execution_count": 55,
   "metadata": {},
   "outputs": [],
   "source": [
    "rolling_mean = merged_df2.Price_x.rolling(6).mean()\n",
    "rolling_std = merged_df2.Price_x.rolling(6).std()"
   ]
  },
  {
   "cell_type": "code",
   "execution_count": 56,
   "metadata": {},
   "outputs": [
    {
     "data": {
      "text/plain": [
       "[<matplotlib.lines.Line2D at 0x7fd4d1e3ccd0>]"
      ]
     },
     "execution_count": 56,
     "metadata": {},
     "output_type": "execute_result"
    },
    {
     "data": {
      "image/png": "[encoded data removed]",
      "text/plain": [
       "<Figure size 432x288 with 1 Axes>"
      ]
     },
     "metadata": {
      "needs_background": "light"
     },
     "output_type": "display_data"
    }
   ],
   "source": [
    "plt.plot(merged_df2.Year, rolling_mean, color=\"red\")"
   ]
  },
  {
   "cell_type": "code",
   "execution_count": 57,
   "metadata": {},
   "outputs": [
    {
     "data": {
      "text/plain": [
       "[<matplotlib.lines.Line2D at 0x7fd4d1eea790>]"
      ]
     },
     "execution_count": 57,
     "metadata": {},
     "output_type": "execute_result"
    },
    {
     "data": {
      "image/png": "[encoded data removed]",
      "text/plain": [
       "<Figure size 432x288 with 1 Axes>"
      ]
     },
     "metadata": {
      "needs_background": "light"
     },
     "output_type": "display_data"
    }
   ],
   "source": [
    "plt.plot(merged_df2.Year, rolling_std, color=\"black\",label=\"Rolling Standard Deviation\")"
   ]
  },
  {
   "cell_type": "code",
   "execution_count": 58,
   "metadata": {},
   "outputs": [
    {
     "data": {
      "image/png": "[encoded data removed]",
      "text/plain": [
       "<Figure size 576x432 with 1 Axes>"
      ]
     },
     "metadata": {
      "needs_background": "light"
     },
     "output_type": "display_data"
    }
   ],
   "source": [
    "fig, ax = plt.subplots(figsize=(8, 6))\n",
    "ax.plot(merged_df2.Year, merged_df2.Price_y);"
   ]
  },
  {
   "cell_type": "code",
   "execution_count": 59,
   "metadata": {},
   "outputs": [
    {
     "data": {
      "image/png": "[encoded data removed]",
      "text/plain": [
       "<Figure size 576x432 with 1 Axes>"
      ]
     },
     "metadata": {
      "needs_background": "light"
     },
     "output_type": "display_data"
    }
   ],
   "source": [
    "fig, ax = plt.subplots(figsize=(8, 6))\n",
    "ax.plot(merged_df2.Year, merged_df2.Price_x);"
   ]
  },
  {
   "cell_type": "markdown",
   "metadata": {},
   "source": [
    "## Time Series Analysis"
   ]
  },
  {
   "cell_type": "code",
   "execution_count": 60,
   "metadata": {},
   "outputs": [],
   "source": [
    "from statsmodels.tsa.stattools import adfuller"
   ]
  },
  {
   "cell_type": "code",
   "execution_count": 61,
   "metadata": {},
   "outputs": [],
   "source": [
    "adft = adfuller(merged_df2.Price_x,autolag=\"AIC\")"
   ]
  },
  {
   "cell_type": "code",
   "execution_count": 62,
   "metadata": {},
   "outputs": [],
   "source": [
    "adft_y = adfuller(merged_df2.Price_y,autolag=\"AIC\")"
   ]
  },
  {
   "cell_type": "code",
   "execution_count": 63,
   "metadata": {},
   "outputs": [
    {
     "name": "stdout",
     "output_type": "stream",
     "text": [
      "        Values                       Metric\n",
      "0    -2.847795              Test Statistics\n",
      "1     0.051764                      p-value\n",
      "2    22.000000             No. of lags used\n",
      "3  3785.000000  Number of observations used\n",
      "4    -3.432079          critical value (1%)\n",
      "5    -2.862304          critical value (5%)\n",
      "6    -2.567177         critical value (10%)\n"
     ]
    }
   ],
   "source": [
    "output_df = pd.DataFrame({\"Values\":[adft[0],adft[1],adft[2],adft[3], adft[4]['1%'], adft[4]['5%'], adft[4]['10%']] , \"Metric\":[\"Test Statistics\",\"p-value\",\"No. of lags used\",\"Number of observations used\",\n",
    "\"critical value (1%)\", \"critical value (5%)\", \"critical value (10%)\"]})\n",
    "print(output_df)"
   ]
  },
  {
   "cell_type": "code",
   "execution_count": 64,
   "metadata": {},
   "outputs": [
    {
     "name": "stdout",
     "output_type": "stream",
     "text": [
      "        Values                       Metric\n",
      "0    -1.461085              Test Statistics\n",
      "1     0.552667                      p-value\n",
      "2     1.000000             No. of lags used\n",
      "3  3806.000000  Number of observations used\n",
      "4    -3.432069          critical value (1%)\n",
      "5    -2.862300          critical value (5%)\n",
      "6    -2.567174         critical value (10%)\n"
     ]
    }
   ],
   "source": [
    "output_dfy = pd.DataFrame({\"Values\":[adft_y[0],adft_y[1],adft_y[2],adft_y[3], adft_y[4]['1%'], adft_y[4]['5%'], adft_y[4]['10%']] , \"Metric\":[\"Test Statistics\",\"p-value\",\"No. of lags used\",\"Number of observations used\",\n",
    "\"critical value (1%)\", \"critical value (5%)\", \"critical value (10%)\"]})\n",
    "print(output_dfy)"
   ]
  },
  {
   "cell_type": "code",
   "execution_count": 65,
   "metadata": {},
   "outputs": [
    {
     "name": "stdout",
     "output_type": "stream",
     "text": [
      "One Month Lag:  0.9982512543863622\n"
     ]
    }
   ],
   "source": [
    "autocorrelation_lag1 = merged_df2['Price_x'].autocorr(lag=1)\n",
    "print(\"One Month Lag: \", autocorrelation_lag1)"
   ]
  },
  {
   "cell_type": "code",
   "execution_count": 66,
   "metadata": {},
   "outputs": [
    {
     "name": "stdout",
     "output_type": "stream",
     "text": [
      "One Month Lag:  0.9982310441182429\n"
     ]
    }
   ],
   "source": [
    "autocorrelation_lagy1 = merged_df2['Price_y'].autocorr(lag=1)\n",
    "print(\"One Month Lag: \", autocorrelation_lagy1)"
   ]
  },
  {
   "cell_type": "code",
   "execution_count": 67,
   "metadata": {},
   "outputs": [
    {
     "name": "stdout",
     "output_type": "stream",
     "text": [
      "One Month Lag:  0.9947496469652709\n"
     ]
    }
   ],
   "source": [
    "autocorrelation_lag3 = merged_df2['Price_x'].autocorr(lag=3)\n",
    "print(\"One Month Lag: \", autocorrelation_lag3)"
   ]
  },
  {
   "cell_type": "code",
   "execution_count": 68,
   "metadata": {},
   "outputs": [
    {
     "name": "stdout",
     "output_type": "stream",
     "text": [
      "One Month Lag:  0.9944849499465137\n"
     ]
    }
   ],
   "source": [
    "autocorrelation_lagy3 = merged_df2['Price_y'].autocorr(lag=3)\n",
    "print(\"One Month Lag: \", autocorrelation_lagy3)"
   ]
  },
  {
   "cell_type": "code",
   "execution_count": 69,
   "metadata": {},
   "outputs": [
    {
     "name": "stdout",
     "output_type": "stream",
     "text": [
      "One Month Lag:  0.9894869044676767\n"
     ]
    }
   ],
   "source": [
    "autocorrelation_lag6 = merged_df2['Price_x'].autocorr(lag=6)\n",
    "print(\"One Month Lag: \", autocorrelation_lag6)"
   ]
  },
  {
   "cell_type": "code",
   "execution_count": 70,
   "metadata": {},
   "outputs": [
    {
     "name": "stdout",
     "output_type": "stream",
     "text": [
      "One Month Lag:  0.9887215415916998\n"
     ]
    }
   ],
   "source": [
    "autocorrelation_lagy6 = merged_df2['Price_y'].autocorr(lag=6)\n",
    "print(\"One Month Lag: \", autocorrelation_lagy6)"
   ]
  }
 ],
 "metadata": {
  "kernelspec": {
   "display_name": "Python 3",
   "language": "python",
   "name": "python3"
  },
  "language_info": {
   "codemirror_mode": {
    "name": "ipython",
    "version": 3
   },
   "file_extension": ".py",
   "mimetype": "text/x-python",
   "name": "python",
   "nbconvert_exporter": "python",
   "pygments_lexer": "ipython3",
   "version": "3.7.4"
  }
 },
 "nbformat": 4,
 "nbformat_minor": 2
}
