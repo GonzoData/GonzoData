{
 "cells": [
  {
   "cell_type": "markdown",
   "metadata": {},
   "source": [
    "\n",
    "# Business Case\n",
    "\n",
    "- Evaluate the value of the data and leverage it to build a content recommender to improve personalized customer experience.\n",
    "\n",
    "\n",
    "# Occam's Razor Approach\n",
    "\n",
    "- Looked at XM only (86%) of users\n",
    "    - Provided details XM users only\n",
    "        - All columns less than 1% missing data \n",
    "        - Created a column that tells us the count of 'tuner' field for the 'main' population for this interation\n",
    "        \n",
    "        \n",
    "- Simplest solution is the best solution\n",
    "    - Saves computational power\n",
    "    - Allows for collaboration and feedback with business\n",
    "        - Don't want to spend months on project without providing updates and receiving feedback from stakeholders and/or SMEs\n",
    "    - Iterative process \n",
    "        - Provide bottom line up front and can continue to improve analysis/model versions\n",
    "\n",
    "\n",
    "# Outline \n",
    "- Exploratory Data Analysis (EDA) Understanding the Data\n",
    "    - Import Each Dataset (A,B)\n",
    "    - Lenght, Width, Description, Dataset Total\n",
    "    - Summary Statistics \n",
    "    - Frequency Tables\n",
    "    - Formating Columns \n",
    "    - Missing Data\n",
    "    - Aggregating Columns to Have Cleaner Dataset for Modeling and Joing with other Dataframe (attachment A)\n",
    "\n",
    "\n",
    "# Data Details\n",
    "- ## Attachment A\n",
    "\n",
    "    - ID – Unique identifier of trialers.\n",
    "    - Trial Start Date \n",
    "    - Trial End Date\n",
    "    - Conversion = 1/0 Indicator of whether the trialer became a paying subscribers\n",
    " \n",
    "\n",
    "- ## Attachment B \n",
    "    - #### The sample was sent to the Automotive partner and they sent back a dataset that represent all the vehicle consumption data between Trial Start and Trial End date for the 1,000 New Car trialers. \n",
    "\n",
    "    - ID – This is the unique identifier of trialers that the vendor passed back to SXM\n",
    "    \n",
    "    - Storedtime – The timestamp of the vehicle status\n",
    "    - Odometer – This is the odometer reading (in km) at Storedtime\n",
    "    - Infotainment Data Source – The information input source at Storedtime\n",
    "    - XM Channel – Sirius XM channel number at Storedtime, only relevant if Infotainment Data Source = ‘XM’\n",
    "    - Mute Flag – whether infotainment unit was muted at Storedtime\n",
    "\n",
    "\n",
    "# Missing Data \n",
    "- Depending on how large the missing values are, they can be deleted\n",
    "    - Easy way if low percentages \n",
    "    - Must document and ask why are there so many missing values?\n",
    "        - Example\n",
    "            - Bad data entry/ certain years don't have good data/ some customers have hand written process and leaves room for human error\n",
    "\n"
   ]
  },
  {
   "cell_type": "code",
   "execution_count": 1,
   "metadata": {},
   "outputs": [],
   "source": [
    "import pandas as pd\n",
    "import numpy as np\n",
    "import datetime\n",
    "import seaborn as sns\n",
    "import matplotlib.pyplot as plt"
   ]
  },
  {
   "cell_type": "markdown",
   "metadata": {},
   "source": [
    "<div id=\"Link1\"></div>\n",
    "\n",
    "\n",
    "\n",
    "\n",
    "\n",
    "# Import Data and Clean Attachment A & B \n"
   ]
  },
  {
   "cell_type": "code",
   "execution_count": 2,
   "metadata": {},
   "outputs": [],
   "source": [
    "df_a= pd.read_csv('ListenerDataCaseStudy_AttachmentA.txt')"
   ]
  },
  {
   "cell_type": "code",
   "execution_count": 3,
   "metadata": {},
   "outputs": [
    {
     "data": {
      "text/html": [
       "<div>\n",
       "<style scoped>\n",
       "    .dataframe tbody tr th:only-of-type {\n",
       "        vertical-align: middle;\n",
       "    }\n",
       "\n",
       "    .dataframe tbody tr th {\n",
       "        vertical-align: top;\n",
       "    }\n",
       "\n",
       "    .dataframe thead th {\n",
       "        text-align: right;\n",
       "    }\n",
       "</style>\n",
       "<table border=\"1\" class=\"dataframe\">\n",
       "  <thead>\n",
       "    <tr style=\"text-align: right;\">\n",
       "      <th></th>\n",
       "      <th>ID</th>\n",
       "      <th>Trial_Start_Date</th>\n",
       "      <th>Trial_End_Date</th>\n",
       "      <th>conversion</th>\n",
       "    </tr>\n",
       "  </thead>\n",
       "  <tbody>\n",
       "    <tr>\n",
       "      <td>0</td>\n",
       "      <td>1</td>\n",
       "      <td>04/14/2018</td>\n",
       "      <td>07/14/2018</td>\n",
       "      <td>1</td>\n",
       "    </tr>\n",
       "    <tr>\n",
       "      <td>1</td>\n",
       "      <td>2</td>\n",
       "      <td>05/04/2018</td>\n",
       "      <td>08/04/2018</td>\n",
       "      <td>1</td>\n",
       "    </tr>\n",
       "    <tr>\n",
       "      <td>2</td>\n",
       "      <td>3</td>\n",
       "      <td>04/19/2018</td>\n",
       "      <td>07/19/2018</td>\n",
       "      <td>1</td>\n",
       "    </tr>\n",
       "    <tr>\n",
       "      <td>3</td>\n",
       "      <td>4</td>\n",
       "      <td>04/27/2018</td>\n",
       "      <td>07/27/2018</td>\n",
       "      <td>1</td>\n",
       "    </tr>\n",
       "    <tr>\n",
       "      <td>4</td>\n",
       "      <td>5</td>\n",
       "      <td>04/14/2018</td>\n",
       "      <td>07/14/2018</td>\n",
       "      <td>0</td>\n",
       "    </tr>\n",
       "  </tbody>\n",
       "</table>\n",
       "</div>"
      ],
      "text/plain": [
       "   ID Trial_Start_Date Trial_End_Date  conversion\n",
       "0   1       04/14/2018     07/14/2018           1\n",
       "1   2       05/04/2018     08/04/2018           1\n",
       "2   3       04/19/2018     07/19/2018           1\n",
       "3   4       04/27/2018     07/27/2018           1\n",
       "4   5       04/14/2018     07/14/2018           0"
      ]
     },
     "execution_count": 3,
     "metadata": {},
     "output_type": "execute_result"
    }
   ],
   "source": [
    "df_a.head()"
   ]
  },
  {
   "cell_type": "code",
   "execution_count": 4,
   "metadata": {},
   "outputs": [],
   "source": [
    "#df_a and df_b have different upper/lowercase for easier join\n",
    "df_a.columns = df_a.columns.str.lower()"
   ]
  },
  {
   "cell_type": "code",
   "execution_count": 5,
   "metadata": {
    "scrolled": true
   },
   "outputs": [
    {
     "name": "stdout",
     "output_type": "stream",
     "text": [
      "<class 'pandas.core.frame.DataFrame'>\n",
      "RangeIndex: 1000 entries, 0 to 999\n",
      "Data columns (total 4 columns):\n",
      "id                  1000 non-null int64\n",
      "trial_start_date    1000 non-null object\n",
      "trial_end_date      1000 non-null object\n",
      "conversion          1000 non-null int64\n",
      "dtypes: int64(2), object(2)\n",
      "memory usage: 31.4+ KB\n"
     ]
    }
   ],
   "source": [
    "df_a.info()"
   ]
  },
  {
   "cell_type": "code",
   "execution_count": 6,
   "metadata": {},
   "outputs": [
    {
     "name": "stdout",
     "output_type": "stream",
     "text": [
      "(1000, 4)\n"
     ]
    }
   ],
   "source": [
    "#check count rows and colomn count \n",
    "print(df_a.shape)"
   ]
  },
  {
   "cell_type": "code",
   "execution_count": 7,
   "metadata": {},
   "outputs": [],
   "source": [
    "#created date_difference for joining this with attachment B later\n",
    "#and understand the basic details on this sample size "
   ]
  },
  {
   "cell_type": "code",
   "execution_count": 8,
   "metadata": {},
   "outputs": [],
   "source": [
    "df_a['start_date']=pd.to_datetime(df_a['trial_start_date'], format='%m/%d/%Y')\n",
    "df_a['end_date']=pd.to_datetime(df_a['trial_end_date'], format='%m/%d/%Y')\n",
    "df_a['date_difference']=df_a.end_date - df_a.start_date"
   ]
  },
  {
   "cell_type": "code",
   "execution_count": 9,
   "metadata": {},
   "outputs": [
    {
     "data": {
      "text/html": [
       "<div>\n",
       "<style scoped>\n",
       "    .dataframe tbody tr th:only-of-type {\n",
       "        vertical-align: middle;\n",
       "    }\n",
       "\n",
       "    .dataframe tbody tr th {\n",
       "        vertical-align: top;\n",
       "    }\n",
       "\n",
       "    .dataframe thead th {\n",
       "        text-align: right;\n",
       "    }\n",
       "</style>\n",
       "<table border=\"1\" class=\"dataframe\">\n",
       "  <thead>\n",
       "    <tr style=\"text-align: right;\">\n",
       "      <th></th>\n",
       "      <th>id</th>\n",
       "      <th>trial_start_date</th>\n",
       "      <th>trial_end_date</th>\n",
       "      <th>conversion</th>\n",
       "      <th>start_date</th>\n",
       "      <th>end_date</th>\n",
       "      <th>date_difference</th>\n",
       "    </tr>\n",
       "  </thead>\n",
       "  <tbody>\n",
       "    <tr>\n",
       "      <td>0</td>\n",
       "      <td>1</td>\n",
       "      <td>04/14/2018</td>\n",
       "      <td>07/14/2018</td>\n",
       "      <td>1</td>\n",
       "      <td>2018-04-14</td>\n",
       "      <td>2018-07-14</td>\n",
       "      <td>91 days</td>\n",
       "    </tr>\n",
       "    <tr>\n",
       "      <td>1</td>\n",
       "      <td>2</td>\n",
       "      <td>05/04/2018</td>\n",
       "      <td>08/04/2018</td>\n",
       "      <td>1</td>\n",
       "      <td>2018-05-04</td>\n",
       "      <td>2018-08-04</td>\n",
       "      <td>92 days</td>\n",
       "    </tr>\n",
       "    <tr>\n",
       "      <td>2</td>\n",
       "      <td>3</td>\n",
       "      <td>04/19/2018</td>\n",
       "      <td>07/19/2018</td>\n",
       "      <td>1</td>\n",
       "      <td>2018-04-19</td>\n",
       "      <td>2018-07-19</td>\n",
       "      <td>91 days</td>\n",
       "    </tr>\n",
       "    <tr>\n",
       "      <td>3</td>\n",
       "      <td>4</td>\n",
       "      <td>04/27/2018</td>\n",
       "      <td>07/27/2018</td>\n",
       "      <td>1</td>\n",
       "      <td>2018-04-27</td>\n",
       "      <td>2018-07-27</td>\n",
       "      <td>91 days</td>\n",
       "    </tr>\n",
       "    <tr>\n",
       "      <td>4</td>\n",
       "      <td>5</td>\n",
       "      <td>04/14/2018</td>\n",
       "      <td>07/14/2018</td>\n",
       "      <td>0</td>\n",
       "      <td>2018-04-14</td>\n",
       "      <td>2018-07-14</td>\n",
       "      <td>91 days</td>\n",
       "    </tr>\n",
       "    <tr>\n",
       "      <td>...</td>\n",
       "      <td>...</td>\n",
       "      <td>...</td>\n",
       "      <td>...</td>\n",
       "      <td>...</td>\n",
       "      <td>...</td>\n",
       "      <td>...</td>\n",
       "      <td>...</td>\n",
       "    </tr>\n",
       "    <tr>\n",
       "      <td>995</td>\n",
       "      <td>996</td>\n",
       "      <td>04/13/2018</td>\n",
       "      <td>07/13/2018</td>\n",
       "      <td>0</td>\n",
       "      <td>2018-04-13</td>\n",
       "      <td>2018-07-13</td>\n",
       "      <td>91 days</td>\n",
       "    </tr>\n",
       "    <tr>\n",
       "      <td>996</td>\n",
       "      <td>997</td>\n",
       "      <td>04/12/2018</td>\n",
       "      <td>07/12/2018</td>\n",
       "      <td>0</td>\n",
       "      <td>2018-04-12</td>\n",
       "      <td>2018-07-12</td>\n",
       "      <td>91 days</td>\n",
       "    </tr>\n",
       "    <tr>\n",
       "      <td>997</td>\n",
       "      <td>998</td>\n",
       "      <td>04/19/2018</td>\n",
       "      <td>07/19/2018</td>\n",
       "      <td>0</td>\n",
       "      <td>2018-04-19</td>\n",
       "      <td>2018-07-19</td>\n",
       "      <td>91 days</td>\n",
       "    </tr>\n",
       "    <tr>\n",
       "      <td>998</td>\n",
       "      <td>999</td>\n",
       "      <td>04/19/2018</td>\n",
       "      <td>07/19/2018</td>\n",
       "      <td>0</td>\n",
       "      <td>2018-04-19</td>\n",
       "      <td>2018-07-19</td>\n",
       "      <td>91 days</td>\n",
       "    </tr>\n",
       "    <tr>\n",
       "      <td>999</td>\n",
       "      <td>1000</td>\n",
       "      <td>04/30/2018</td>\n",
       "      <td>08/01/2018</td>\n",
       "      <td>1</td>\n",
       "      <td>2018-04-30</td>\n",
       "      <td>2018-08-01</td>\n",
       "      <td>93 days</td>\n",
       "    </tr>\n",
       "  </tbody>\n",
       "</table>\n",
       "<p>1000 rows × 7 columns</p>\n",
       "</div>"
      ],
      "text/plain": [
       "       id trial_start_date trial_end_date  conversion start_date   end_date  \\\n",
       "0       1       04/14/2018     07/14/2018           1 2018-04-14 2018-07-14   \n",
       "1       2       05/04/2018     08/04/2018           1 2018-05-04 2018-08-04   \n",
       "2       3       04/19/2018     07/19/2018           1 2018-04-19 2018-07-19   \n",
       "3       4       04/27/2018     07/27/2018           1 2018-04-27 2018-07-27   \n",
       "4       5       04/14/2018     07/14/2018           0 2018-04-14 2018-07-14   \n",
       "..    ...              ...            ...         ...        ...        ...   \n",
       "995   996       04/13/2018     07/13/2018           0 2018-04-13 2018-07-13   \n",
       "996   997       04/12/2018     07/12/2018           0 2018-04-12 2018-07-12   \n",
       "997   998       04/19/2018     07/19/2018           0 2018-04-19 2018-07-19   \n",
       "998   999       04/19/2018     07/19/2018           0 2018-04-19 2018-07-19   \n",
       "999  1000       04/30/2018     08/01/2018           1 2018-04-30 2018-08-01   \n",
       "\n",
       "    date_difference  \n",
       "0           91 days  \n",
       "1           92 days  \n",
       "2           91 days  \n",
       "3           91 days  \n",
       "4           91 days  \n",
       "..              ...  \n",
       "995         91 days  \n",
       "996         91 days  \n",
       "997         91 days  \n",
       "998         91 days  \n",
       "999         93 days  \n",
       "\n",
       "[1000 rows x 7 columns]"
      ]
     },
     "execution_count": 9,
     "metadata": {},
     "output_type": "execute_result"
    }
   ],
   "source": [
    "df_a"
   ]
  },
  {
   "cell_type": "code",
   "execution_count": 10,
   "metadata": {},
   "outputs": [
    {
     "data": {
      "text/plain": [
       "0    731\n",
       "1    269\n",
       "Name: conversion, dtype: int64"
      ]
     },
     "execution_count": 10,
     "metadata": {},
     "output_type": "execute_result"
    }
   ],
   "source": [
    "df_a['conversion'].value_counts()"
   ]
  },
  {
   "cell_type": "code",
   "execution_count": 11,
   "metadata": {},
   "outputs": [
    {
     "data": {
      "text/plain": [
       "0    0.731\n",
       "1    0.269\n",
       "Name: conversion, dtype: float64"
      ]
     },
     "execution_count": 11,
     "metadata": {},
     "output_type": "execute_result"
    }
   ],
   "source": [
    "#percent of A that became subscribers\n",
    "df_a.conversion.value_counts(normalize=True) "
   ]
  },
  {
   "cell_type": "code",
   "execution_count": 12,
   "metadata": {},
   "outputs": [
    {
     "data": {
      "text/plain": [
       "91 days    751\n",
       "92 days    168\n",
       "93 days     71\n",
       "94 days     10\n",
       "Name: date_difference, dtype: int64"
      ]
     },
     "execution_count": 12,
     "metadata": {},
     "output_type": "execute_result"
    }
   ],
   "source": [
    "# Majority (75%) of sample from attachment a have 91 day subscription \n",
    "# Other users have one day increase of subscription (92,93,94)\n",
    "df_a['date_difference'].value_counts()"
   ]
  },
  {
   "cell_type": "code",
   "execution_count": 13,
   "metadata": {},
   "outputs": [
    {
     "data": {
      "text/plain": [
       "91 days    0.751\n",
       "92 days    0.168\n",
       "93 days    0.071\n",
       "94 days    0.010\n",
       "Name: date_difference, dtype: float64"
      ]
     },
     "execution_count": 13,
     "metadata": {},
     "output_type": "execute_result"
    }
   ],
   "source": [
    "df_a.date_difference.value_counts(normalize=True) "
   ]
  },
  {
   "cell_type": "code",
   "execution_count": 14,
   "metadata": {},
   "outputs": [],
   "source": [
    "df_a['subscribers'] = (df_a.conversion == 1)"
   ]
  },
  {
   "cell_type": "code",
   "execution_count": 15,
   "metadata": {
    "scrolled": true
   },
   "outputs": [
    {
     "data": {
      "text/html": [
       "<div>\n",
       "<style scoped>\n",
       "    .dataframe tbody tr th:only-of-type {\n",
       "        vertical-align: middle;\n",
       "    }\n",
       "\n",
       "    .dataframe tbody tr th {\n",
       "        vertical-align: top;\n",
       "    }\n",
       "\n",
       "    .dataframe thead th {\n",
       "        text-align: right;\n",
       "    }\n",
       "</style>\n",
       "<table border=\"1\" class=\"dataframe\">\n",
       "  <thead>\n",
       "    <tr style=\"text-align: right;\">\n",
       "      <th></th>\n",
       "      <th>id</th>\n",
       "      <th>trial_start_date</th>\n",
       "      <th>trial_end_date</th>\n",
       "      <th>conversion</th>\n",
       "      <th>start_date</th>\n",
       "      <th>end_date</th>\n",
       "      <th>date_difference</th>\n",
       "      <th>subscribers</th>\n",
       "    </tr>\n",
       "  </thead>\n",
       "  <tbody>\n",
       "    <tr>\n",
       "      <td>0</td>\n",
       "      <td>1</td>\n",
       "      <td>04/14/2018</td>\n",
       "      <td>07/14/2018</td>\n",
       "      <td>1</td>\n",
       "      <td>2018-04-14</td>\n",
       "      <td>2018-07-14</td>\n",
       "      <td>91 days</td>\n",
       "      <td>True</td>\n",
       "    </tr>\n",
       "    <tr>\n",
       "      <td>1</td>\n",
       "      <td>2</td>\n",
       "      <td>05/04/2018</td>\n",
       "      <td>08/04/2018</td>\n",
       "      <td>1</td>\n",
       "      <td>2018-05-04</td>\n",
       "      <td>2018-08-04</td>\n",
       "      <td>92 days</td>\n",
       "      <td>True</td>\n",
       "    </tr>\n",
       "    <tr>\n",
       "      <td>2</td>\n",
       "      <td>3</td>\n",
       "      <td>04/19/2018</td>\n",
       "      <td>07/19/2018</td>\n",
       "      <td>1</td>\n",
       "      <td>2018-04-19</td>\n",
       "      <td>2018-07-19</td>\n",
       "      <td>91 days</td>\n",
       "      <td>True</td>\n",
       "    </tr>\n",
       "    <tr>\n",
       "      <td>3</td>\n",
       "      <td>4</td>\n",
       "      <td>04/27/2018</td>\n",
       "      <td>07/27/2018</td>\n",
       "      <td>1</td>\n",
       "      <td>2018-04-27</td>\n",
       "      <td>2018-07-27</td>\n",
       "      <td>91 days</td>\n",
       "      <td>True</td>\n",
       "    </tr>\n",
       "    <tr>\n",
       "      <td>4</td>\n",
       "      <td>5</td>\n",
       "      <td>04/14/2018</td>\n",
       "      <td>07/14/2018</td>\n",
       "      <td>0</td>\n",
       "      <td>2018-04-14</td>\n",
       "      <td>2018-07-14</td>\n",
       "      <td>91 days</td>\n",
       "      <td>False</td>\n",
       "    </tr>\n",
       "    <tr>\n",
       "      <td>...</td>\n",
       "      <td>...</td>\n",
       "      <td>...</td>\n",
       "      <td>...</td>\n",
       "      <td>...</td>\n",
       "      <td>...</td>\n",
       "      <td>...</td>\n",
       "      <td>...</td>\n",
       "      <td>...</td>\n",
       "    </tr>\n",
       "    <tr>\n",
       "      <td>995</td>\n",
       "      <td>996</td>\n",
       "      <td>04/13/2018</td>\n",
       "      <td>07/13/2018</td>\n",
       "      <td>0</td>\n",
       "      <td>2018-04-13</td>\n",
       "      <td>2018-07-13</td>\n",
       "      <td>91 days</td>\n",
       "      <td>False</td>\n",
       "    </tr>\n",
       "    <tr>\n",
       "      <td>996</td>\n",
       "      <td>997</td>\n",
       "      <td>04/12/2018</td>\n",
       "      <td>07/12/2018</td>\n",
       "      <td>0</td>\n",
       "      <td>2018-04-12</td>\n",
       "      <td>2018-07-12</td>\n",
       "      <td>91 days</td>\n",
       "      <td>False</td>\n",
       "    </tr>\n",
       "    <tr>\n",
       "      <td>997</td>\n",
       "      <td>998</td>\n",
       "      <td>04/19/2018</td>\n",
       "      <td>07/19/2018</td>\n",
       "      <td>0</td>\n",
       "      <td>2018-04-19</td>\n",
       "      <td>2018-07-19</td>\n",
       "      <td>91 days</td>\n",
       "      <td>False</td>\n",
       "    </tr>\n",
       "    <tr>\n",
       "      <td>998</td>\n",
       "      <td>999</td>\n",
       "      <td>04/19/2018</td>\n",
       "      <td>07/19/2018</td>\n",
       "      <td>0</td>\n",
       "      <td>2018-04-19</td>\n",
       "      <td>2018-07-19</td>\n",
       "      <td>91 days</td>\n",
       "      <td>False</td>\n",
       "    </tr>\n",
       "    <tr>\n",
       "      <td>999</td>\n",
       "      <td>1000</td>\n",
       "      <td>04/30/2018</td>\n",
       "      <td>08/01/2018</td>\n",
       "      <td>1</td>\n",
       "      <td>2018-04-30</td>\n",
       "      <td>2018-08-01</td>\n",
       "      <td>93 days</td>\n",
       "      <td>True</td>\n",
       "    </tr>\n",
       "  </tbody>\n",
       "</table>\n",
       "<p>1000 rows × 8 columns</p>\n",
       "</div>"
      ],
      "text/plain": [
       "       id trial_start_date trial_end_date  conversion start_date   end_date  \\\n",
       "0       1       04/14/2018     07/14/2018           1 2018-04-14 2018-07-14   \n",
       "1       2       05/04/2018     08/04/2018           1 2018-05-04 2018-08-04   \n",
       "2       3       04/19/2018     07/19/2018           1 2018-04-19 2018-07-19   \n",
       "3       4       04/27/2018     07/27/2018           1 2018-04-27 2018-07-27   \n",
       "4       5       04/14/2018     07/14/2018           0 2018-04-14 2018-07-14   \n",
       "..    ...              ...            ...         ...        ...        ...   \n",
       "995   996       04/13/2018     07/13/2018           0 2018-04-13 2018-07-13   \n",
       "996   997       04/12/2018     07/12/2018           0 2018-04-12 2018-07-12   \n",
       "997   998       04/19/2018     07/19/2018           0 2018-04-19 2018-07-19   \n",
       "998   999       04/19/2018     07/19/2018           0 2018-04-19 2018-07-19   \n",
       "999  1000       04/30/2018     08/01/2018           1 2018-04-30 2018-08-01   \n",
       "\n",
       "    date_difference  subscribers  \n",
       "0           91 days         True  \n",
       "1           92 days         True  \n",
       "2           91 days         True  \n",
       "3           91 days         True  \n",
       "4           91 days        False  \n",
       "..              ...          ...  \n",
       "995         91 days        False  \n",
       "996         91 days        False  \n",
       "997         91 days        False  \n",
       "998         91 days        False  \n",
       "999         93 days         True  \n",
       "\n",
       "[1000 rows x 8 columns]"
      ]
     },
     "execution_count": 15,
     "metadata": {},
     "output_type": "execute_result"
    }
   ],
   "source": [
    "df_a"
   ]
  },
  {
   "cell_type": "code",
   "execution_count": 16,
   "metadata": {
    "scrolled": true
   },
   "outputs": [
    {
     "data": {
      "image/png": "[encoded data removed]",
      "text/plain": [
       "<Figure size 432x288 with 1 Axes>"
      ]
     },
     "metadata": {
      "needs_background": "light"
     },
     "output_type": "display_data"
    }
   ],
   "source": [
    "df_a.groupby('subscribers').id.count().plot(kind='bar')\n",
    "plt.show()"
   ]
  },
  {
   "cell_type": "code",
   "execution_count": 17,
   "metadata": {},
   "outputs": [
    {
     "data": {
      "text/html": [
       "<div>\n",
       "<style scoped>\n",
       "    .dataframe tbody tr th:only-of-type {\n",
       "        vertical-align: middle;\n",
       "    }\n",
       "\n",
       "    .dataframe tbody tr th {\n",
       "        vertical-align: top;\n",
       "    }\n",
       "\n",
       "    .dataframe thead th {\n",
       "        text-align: right;\n",
       "    }\n",
       "</style>\n",
       "<table border=\"1\" class=\"dataframe\">\n",
       "  <thead>\n",
       "    <tr style=\"text-align: right;\">\n",
       "      <th>date_difference</th>\n",
       "      <th>91 days</th>\n",
       "      <th>92 days</th>\n",
       "      <th>93 days</th>\n",
       "      <th>94 days</th>\n",
       "    </tr>\n",
       "    <tr>\n",
       "      <th>subscribers</th>\n",
       "      <th></th>\n",
       "      <th></th>\n",
       "      <th></th>\n",
       "      <th></th>\n",
       "    </tr>\n",
       "  </thead>\n",
       "  <tbody>\n",
       "    <tr>\n",
       "      <td>False</td>\n",
       "      <td>549</td>\n",
       "      <td>126</td>\n",
       "      <td>49</td>\n",
       "      <td>7</td>\n",
       "    </tr>\n",
       "    <tr>\n",
       "      <td>True</td>\n",
       "      <td>202</td>\n",
       "      <td>42</td>\n",
       "      <td>22</td>\n",
       "      <td>3</td>\n",
       "    </tr>\n",
       "  </tbody>\n",
       "</table>\n",
       "</div>"
      ],
      "text/plain": [
       "date_difference  91 days  92 days  93 days  94 days\n",
       "subscribers                                        \n",
       "False                549      126       49        7\n",
       "True                 202       42       22        3"
      ]
     },
     "execution_count": 17,
     "metadata": {},
     "output_type": "execute_result"
    }
   ],
   "source": [
    "# checking the conversion rate to subsrcibers yes by trial days\n",
    "pd.crosstab(df_a.subscribers,df_a.date_difference)"
   ]
  },
  {
   "cell_type": "code",
   "execution_count": 18,
   "metadata": {
    "scrolled": true
   },
   "outputs": [
    {
     "data": {
      "text/plain": [
       "2018-04-30    68\n",
       "2018-04-28    65\n",
       "2018-04-14    57\n",
       "2018-04-12    55\n",
       "2018-04-21    49\n",
       "2018-04-07    47\n",
       "2018-04-16    45\n",
       "2018-04-23    43\n",
       "2018-04-26    42\n",
       "2018-04-27    35\n",
       "2018-04-18    33\n",
       "2018-05-05    31\n",
       "2018-05-04    29\n",
       "2018-04-25    26\n",
       "2018-05-07    25\n",
       "2018-04-13    25\n",
       "2018-04-19    25\n",
       "2018-04-20    24\n",
       "2018-04-06    24\n",
       "2018-04-05    21\n",
       "2018-04-09    21\n",
       "2018-04-24    21\n",
       "2018-05-03    18\n",
       "2018-05-08    17\n",
       "2018-05-09    17\n",
       "2018-04-17    17\n",
       "2018-04-04    13\n",
       "2018-04-11    13\n",
       "2018-04-10    12\n",
       "2018-05-02    11\n",
       "2018-05-01    11\n",
       "2018-04-15    10\n",
       "2018-04-22    10\n",
       "2018-04-29     9\n",
       "2018-04-08     7\n",
       "2018-04-03     6\n",
       "2018-03-31     5\n",
       "2018-05-06     4\n",
       "2018-04-02     4\n",
       "2018-03-30     3\n",
       "2018-03-29     1\n",
       "2018-04-01     1\n",
       "Name: start_date, dtype: int64"
      ]
     },
     "execution_count": 18,
     "metadata": {},
     "output_type": "execute_result"
    }
   ],
   "source": [
    "# why do the most start dates for this sample of 4/2018 have more towards of the month\n",
    "df_a['start_date'].value_counts()"
   ]
  },
  {
   "cell_type": "code",
   "execution_count": 19,
   "metadata": {},
   "outputs": [
    {
     "data": {
      "text/plain": [
       "2018-04-30    0.068\n",
       "2018-04-28    0.065\n",
       "2018-04-14    0.057\n",
       "2018-04-12    0.055\n",
       "2018-04-21    0.049\n",
       "2018-04-07    0.047\n",
       "2018-04-16    0.045\n",
       "2018-04-23    0.043\n",
       "2018-04-26    0.042\n",
       "2018-04-27    0.035\n",
       "2018-04-18    0.033\n",
       "2018-05-05    0.031\n",
       "2018-05-04    0.029\n",
       "2018-04-25    0.026\n",
       "2018-05-07    0.025\n",
       "2018-04-13    0.025\n",
       "2018-04-19    0.025\n",
       "2018-04-20    0.024\n",
       "2018-04-06    0.024\n",
       "2018-04-05    0.021\n",
       "2018-04-09    0.021\n",
       "2018-04-24    0.021\n",
       "2018-05-03    0.018\n",
       "2018-05-08    0.017\n",
       "2018-05-09    0.017\n",
       "2018-04-17    0.017\n",
       "2018-04-04    0.013\n",
       "2018-04-11    0.013\n",
       "2018-04-10    0.012\n",
       "2018-05-02    0.011\n",
       "2018-05-01    0.011\n",
       "2018-04-15    0.010\n",
       "2018-04-22    0.010\n",
       "2018-04-29    0.009\n",
       "2018-04-08    0.007\n",
       "2018-04-03    0.006\n",
       "2018-03-31    0.005\n",
       "2018-05-06    0.004\n",
       "2018-04-02    0.004\n",
       "2018-03-30    0.003\n",
       "2018-03-29    0.001\n",
       "2018-04-01    0.001\n",
       "Name: start_date, dtype: float64"
      ]
     },
     "execution_count": 19,
     "metadata": {},
     "output_type": "execute_result"
    }
   ],
   "source": [
    "df_a.start_date.value_counts(normalize=True) "
   ]
  },
  {
   "cell_type": "markdown",
   "metadata": {},
   "source": [
    "## Attachment B"
   ]
  },
  {
   "cell_type": "code",
   "execution_count": 20,
   "metadata": {},
   "outputs": [],
   "source": [
    "df_b= pd.read_csv('ListenerDataCaseStudy_AttachmentB.txt')"
   ]
  },
  {
   "cell_type": "code",
   "execution_count": 21,
   "metadata": {},
   "outputs": [
    {
     "data": {
      "text/html": [
       "<div>\n",
       "<style scoped>\n",
       "    .dataframe tbody tr th:only-of-type {\n",
       "        vertical-align: middle;\n",
       "    }\n",
       "\n",
       "    .dataframe tbody tr th {\n",
       "        vertical-align: top;\n",
       "    }\n",
       "\n",
       "    .dataframe thead th {\n",
       "        text-align: right;\n",
       "    }\n",
       "</style>\n",
       "<table border=\"1\" class=\"dataframe\">\n",
       "  <thead>\n",
       "    <tr style=\"text-align: right;\">\n",
       "      <th></th>\n",
       "      <th>id</th>\n",
       "      <th>storedtime</th>\n",
       "      <th>odometer_km</th>\n",
       "      <th>infotainment_data_source</th>\n",
       "      <th>xm_channel</th>\n",
       "      <th>tuner</th>\n",
       "      <th>muteflg</th>\n",
       "    </tr>\n",
       "  </thead>\n",
       "  <tbody>\n",
       "    <tr>\n",
       "      <td>0</td>\n",
       "      <td>137</td>\n",
       "      <td>05/04/2018 3:26:14 PM</td>\n",
       "      <td>175.906250</td>\n",
       "      <td>Tuner</td>\n",
       "      <td>255.0</td>\n",
       "      <td>FM</td>\n",
       "      <td>False</td>\n",
       "    </tr>\n",
       "    <tr>\n",
       "      <td>1</td>\n",
       "      <td>840</td>\n",
       "      <td>04/07/2018 8:56:59 PM</td>\n",
       "      <td>147.750000</td>\n",
       "      <td>External Digital Media (USB Drive, iPod)</td>\n",
       "      <td>255.0</td>\n",
       "      <td>FM</td>\n",
       "      <td>False</td>\n",
       "    </tr>\n",
       "    <tr>\n",
       "      <td>2</td>\n",
       "      <td>448</td>\n",
       "      <td>05/11/2018 7:00:57 PM</td>\n",
       "      <td>666.203125</td>\n",
       "      <td>NaN</td>\n",
       "      <td>NaN</td>\n",
       "      <td>NaN</td>\n",
       "      <td>NaN</td>\n",
       "    </tr>\n",
       "    <tr>\n",
       "      <td>3</td>\n",
       "      <td>308</td>\n",
       "      <td>04/06/2018 5:06:19 PM</td>\n",
       "      <td>191.171875</td>\n",
       "      <td>Tuner</td>\n",
       "      <td>255.0</td>\n",
       "      <td>FM</td>\n",
       "      <td>False</td>\n",
       "    </tr>\n",
       "    <tr>\n",
       "      <td>4</td>\n",
       "      <td>25</td>\n",
       "      <td>04/20/2018 11:26:51 AM</td>\n",
       "      <td>680.453125</td>\n",
       "      <td>None</td>\n",
       "      <td>255.0</td>\n",
       "      <td>XM</td>\n",
       "      <td>False</td>\n",
       "    </tr>\n",
       "  </tbody>\n",
       "</table>\n",
       "</div>"
      ],
      "text/plain": [
       "    id              storedtime  odometer_km  \\\n",
       "0  137   05/04/2018 3:26:14 PM   175.906250   \n",
       "1  840   04/07/2018 8:56:59 PM   147.750000   \n",
       "2  448   05/11/2018 7:00:57 PM   666.203125   \n",
       "3  308   04/06/2018 5:06:19 PM   191.171875   \n",
       "4   25  04/20/2018 11:26:51 AM   680.453125   \n",
       "\n",
       "                   infotainment_data_source  xm_channel tuner muteflg  \n",
       "0                                     Tuner       255.0    FM   False  \n",
       "1  External Digital Media (USB Drive, iPod)       255.0    FM   False  \n",
       "2                                       NaN         NaN   NaN     NaN  \n",
       "3                                     Tuner       255.0    FM   False  \n",
       "4                                      None       255.0    XM   False  "
      ]
     },
     "execution_count": 21,
     "metadata": {},
     "output_type": "execute_result"
    }
   ],
   "source": [
    "df_b.head()"
   ]
  },
  {
   "cell_type": "code",
   "execution_count": 22,
   "metadata": {},
   "outputs": [
    {
     "name": "stdout",
     "output_type": "stream",
     "text": [
      "<class 'pandas.core.frame.DataFrame'>\n",
      "RangeIndex: 2062983 entries, 0 to 2062982\n",
      "Data columns (total 7 columns):\n",
      "id                          int64\n",
      "storedtime                  object\n",
      "odometer_km                 float64\n",
      "infotainment_data_source    object\n",
      "xm_channel                  float64\n",
      "tuner                       object\n",
      "muteflg                     object\n",
      "dtypes: float64(2), int64(1), object(4)\n",
      "memory usage: 110.2+ MB\n"
     ]
    }
   ],
   "source": [
    "df_b.info()"
   ]
  },
  {
   "cell_type": "code",
   "execution_count": 23,
   "metadata": {},
   "outputs": [
    {
     "name": "stdout",
     "output_type": "stream",
     "text": [
      "(2062983, 7)\n"
     ]
    }
   ],
   "source": [
    "#check count rows and colomn count \n",
    "print(df_b.shape)"
   ]
  },
  {
   "cell_type": "code",
   "execution_count": 24,
   "metadata": {},
   "outputs": [
    {
     "data": {
      "text/plain": [
       "728    10422\n",
       "161     9811\n",
       "457     9528\n",
       "502     8718\n",
       "495     7767\n",
       "       ...  \n",
       "962       16\n",
       "167       13\n",
       "555        9\n",
       "701        6\n",
       "224        2\n",
       "Name: id, Length: 1000, dtype: int64"
      ]
     },
     "execution_count": 24,
     "metadata": {},
     "output_type": "execute_result"
    }
   ],
   "source": [
    "#1,000 unique ids in attachment b \n",
    "df_b['id'].value_counts()"
   ]
  },
  {
   "cell_type": "markdown",
   "metadata": {},
   "source": [
    "# Missing\n",
    "## Attachment B is the only file with missing values"
   ]
  },
  {
   "cell_type": "markdown",
   "metadata": {},
   "source": [
    "### Ways to handle missing values (usually don't want to drop large missing values)\n",
    "- Drop the variable\n",
    "- Drop the observation(s)\n",
    "- Missing Value Imputation"
   ]
  },
  {
   "cell_type": "code",
   "execution_count": 25,
   "metadata": {},
   "outputs": [
    {
     "data": {
      "text/plain": [
       "0"
      ]
     },
     "execution_count": 25,
     "metadata": {},
     "output_type": "execute_result"
    }
   ],
   "source": [
    "#both columns and rows missing\n",
    "df_a.isnull().sum().sum()"
   ]
  },
  {
   "cell_type": "code",
   "execution_count": 26,
   "metadata": {},
   "outputs": [
    {
     "data": {
      "text/plain": [
       "1860984"
      ]
     },
     "execution_count": 26,
     "metadata": {},
     "output_type": "execute_result"
    }
   ],
   "source": [
    "#both columns and rows missing\n",
    "df_b.isnull().sum().sum()"
   ]
  },
  {
   "cell_type": "code",
   "execution_count": 27,
   "metadata": {},
   "outputs": [
    {
     "name": "stdout",
     "output_type": "stream",
     "text": [
      "                                       column_name  percent_missing\n",
      "id                                              id         0.000000\n",
      "storedtime                              storedtime         0.000000\n",
      "odometer_km                            odometer_km         1.396812\n",
      "infotainment_data_source  infotainment_data_source        22.210265\n",
      "xm_channel                              xm_channel        22.206145\n",
      "tuner                                        tuner        22.197953\n",
      "muteflg                                    muteflg        22.197226\n"
     ]
    }
   ],
   "source": [
    "percent_missing = df_b.isnull().sum() * 100 / len(df_b)\n",
    "missing_value_df_b = pd.DataFrame({'column_name': df_b.columns,\n",
    "                                 'percent_missing': percent_missing})\n",
    "print(missing_value_df_b)"
   ]
  },
  {
   "cell_type": "markdown",
   "metadata": {},
   "source": [
    "# Business Case:\n",
    "\n",
    "1. Perform data exploration and engineering on attachment B which includes but not limited to hygiene/cleansing, aggregation.\n",
    "\n",
    "### df_b2 is has no missing values because there was less that 1% missing when filtered for XM channel\n",
    "\n",
    "## aggregated attachment B (df_b) for EDA and make the join with attachment A (df_a) more meaningful results"
   ]
  },
  {
   "cell_type": "markdown",
   "metadata": {},
   "source": [
    "## Attachment B"
   ]
  },
  {
   "cell_type": "markdown",
   "metadata": {},
   "source": [
    "### The counts below show the occurance of each ID (unique identifier of trialers )\n",
    "\n",
    "### - There are 1,000 uniuqe IDs"
   ]
  },
  {
   "cell_type": "code",
   "execution_count": 28,
   "metadata": {},
   "outputs": [
    {
     "data": {
      "text/plain": [
       "728    10422\n",
       "161     9811\n",
       "457     9528\n",
       "502     8718\n",
       "495     7767\n",
       "       ...  \n",
       "962       16\n",
       "167       13\n",
       "555        9\n",
       "701        6\n",
       "224        2\n",
       "Name: id, Length: 1000, dtype: int64"
      ]
     },
     "execution_count": 28,
     "metadata": {},
     "output_type": "execute_result"
    }
   ],
   "source": [
    "df_b['id'].value_counts()"
   ]
  },
  {
   "cell_type": "code",
   "execution_count": 29,
   "metadata": {},
   "outputs": [
    {
     "data": {
      "text/plain": [
       "05/31/2018 5:00:51 PM     7\n",
       "05/26/2018 5:34:28 PM     7\n",
       "06/21/2018 3:58:30 PM     7\n",
       "06/14/2018 2:07:59 AM     6\n",
       "06/12/2018 9:20:03 PM     6\n",
       "                         ..\n",
       "07/07/2018 1:51:55 AM     1\n",
       "05/25/2018 8:55:17 PM     1\n",
       "07/14/2018 12:27:41 PM    1\n",
       "07/29/2018 8:52:21 PM     1\n",
       "04/16/2018 7:02:42 PM     1\n",
       "Name: storedtime, Length: 1749177, dtype: int64"
      ]
     },
     "execution_count": 29,
     "metadata": {},
     "output_type": "execute_result"
    }
   ],
   "source": [
    "df_b['storedtime'].value_counts()"
   ]
  },
  {
   "cell_type": "code",
   "execution_count": 31,
   "metadata": {},
   "outputs": [
    {
     "data": {
      "text/plain": [
       "NaN                                         458194\n",
       "XM                                          452569\n",
       "Tuner                                       435741\n",
       "External Digital Media (USB Drive, iPod)    322375\n",
       "None                                        312514\n",
       "Phone (Bluetooth)                            65125\n",
       "CD                                            8198\n",
       "Wireless Digital Media (Bluetooth-A2DP)       5331\n",
       "Front Aux                                     2550\n",
       "RSE                                            386\n",
       "Name: infotainment_data_source, dtype: int64"
      ]
     },
     "execution_count": 31,
     "metadata": {},
     "output_type": "execute_result"
    }
   ],
   "source": [
    "df_b['infotainment_data_source'].value_counts(dropna=False)"
   ]
  },
  {
   "cell_type": "code",
   "execution_count": 30,
   "metadata": {},
   "outputs": [
    {
     "data": {
      "text/plain": [
       "255.0    1058372\n",
       "NaN       458109\n",
       "56.0       28258\n",
       "58.0       23502\n",
       "1.0        20398\n",
       "          ...   \n",
       "199.0          1\n",
       "197.0          1\n",
       "191.0          1\n",
       "134.0          1\n",
       "166.0          1\n",
       "Name: xm_channel, Length: 204, dtype: int64"
      ]
     },
     "execution_count": 30,
     "metadata": {},
     "output_type": "execute_result"
    }
   ],
   "source": [
    "df_b['xm_channel'].value_counts(dropna=False)"
   ]
  },
  {
   "cell_type": "code",
   "execution_count": 31,
   "metadata": {
    "scrolled": true
   },
   "outputs": [
    {
     "data": {
      "text/plain": [
       "FM       775777\n",
       "XM       619884\n",
       "FM HD    142512\n",
       "AM        63448\n",
       "AM HD      3422\n",
       "Name: tuner, dtype: int64"
      ]
     },
     "execution_count": 31,
     "metadata": {},
     "output_type": "execute_result"
    }
   ],
   "source": [
    "df_b['tuner'].value_counts()"
   ]
  },
  {
   "cell_type": "code",
   "execution_count": 32,
   "metadata": {},
   "outputs": [
    {
     "data": {
      "text/plain": [
       "FM       0.483337\n",
       "XM       0.386210\n",
       "FM HD    0.088790\n",
       "AM       0.039530\n",
       "AM HD    0.002132\n",
       "Name: tuner, dtype: float64"
      ]
     },
     "execution_count": 32,
     "metadata": {},
     "output_type": "execute_result"
    }
   ],
   "source": [
    "df_b.tuner.value_counts(normalize=True) "
   ]
  },
  {
   "cell_type": "code",
   "execution_count": 33,
   "metadata": {},
   "outputs": [
    {
     "data": {
      "text/plain": [
       "False    1465516\n",
       "True      139542\n",
       "Name: muteflg, dtype: int64"
      ]
     },
     "execution_count": 33,
     "metadata": {},
     "output_type": "execute_result"
    }
   ],
   "source": [
    "df_b['muteflg'].value_counts()"
   ]
  },
  {
   "cell_type": "code",
   "execution_count": 34,
   "metadata": {},
   "outputs": [
    {
     "data": {
      "text/plain": [
       "False    0.913061\n",
       "True     0.086939\n",
       "Name: muteflg, dtype: float64"
      ]
     },
     "execution_count": 34,
     "metadata": {},
     "output_type": "execute_result"
    }
   ],
   "source": [
    "#91 percent of time mute is not used\n",
    "#Do we care about if it is muted? If so, why?\n",
    "df_b.muteflg.value_counts(normalize=True) "
   ]
  },
  {
   "cell_type": "code",
   "execution_count": 35,
   "metadata": {
    "scrolled": true
   },
   "outputs": [],
   "source": [
    "#Create field for xm channels\n",
    "df_b['tuner_count'] = df_b['tuner'].map({'FM':1,'XM':2,'FM HD':3,'AM':4,'AM HD':5})\n"
   ]
  },
  {
   "cell_type": "code",
   "execution_count": 36,
   "metadata": {},
   "outputs": [
    {
     "data": {
      "text/html": [
       "<div>\n",
       "<style scoped>\n",
       "    .dataframe tbody tr th:only-of-type {\n",
       "        vertical-align: middle;\n",
       "    }\n",
       "\n",
       "    .dataframe tbody tr th {\n",
       "        vertical-align: top;\n",
       "    }\n",
       "\n",
       "    .dataframe thead th {\n",
       "        text-align: right;\n",
       "    }\n",
       "</style>\n",
       "<table border=\"1\" class=\"dataframe\">\n",
       "  <thead>\n",
       "    <tr style=\"text-align: right;\">\n",
       "      <th></th>\n",
       "      <th>id</th>\n",
       "      <th>storedtime</th>\n",
       "      <th>odometer_km</th>\n",
       "      <th>infotainment_data_source</th>\n",
       "      <th>xm_channel</th>\n",
       "      <th>tuner</th>\n",
       "      <th>muteflg</th>\n",
       "      <th>tuner_count</th>\n",
       "    </tr>\n",
       "  </thead>\n",
       "  <tbody>\n",
       "    <tr>\n",
       "      <td>0</td>\n",
       "      <td>137</td>\n",
       "      <td>05/04/2018 3:26:14 PM</td>\n",
       "      <td>175.906250</td>\n",
       "      <td>Tuner</td>\n",
       "      <td>255.0</td>\n",
       "      <td>FM</td>\n",
       "      <td>False</td>\n",
       "      <td>1.0</td>\n",
       "    </tr>\n",
       "    <tr>\n",
       "      <td>1</td>\n",
       "      <td>840</td>\n",
       "      <td>04/07/2018 8:56:59 PM</td>\n",
       "      <td>147.750000</td>\n",
       "      <td>External Digital Media (USB Drive, iPod)</td>\n",
       "      <td>255.0</td>\n",
       "      <td>FM</td>\n",
       "      <td>False</td>\n",
       "      <td>1.0</td>\n",
       "    </tr>\n",
       "    <tr>\n",
       "      <td>2</td>\n",
       "      <td>448</td>\n",
       "      <td>05/11/2018 7:00:57 PM</td>\n",
       "      <td>666.203125</td>\n",
       "      <td>NaN</td>\n",
       "      <td>NaN</td>\n",
       "      <td>NaN</td>\n",
       "      <td>NaN</td>\n",
       "      <td>NaN</td>\n",
       "    </tr>\n",
       "    <tr>\n",
       "      <td>3</td>\n",
       "      <td>308</td>\n",
       "      <td>04/06/2018 5:06:19 PM</td>\n",
       "      <td>191.171875</td>\n",
       "      <td>Tuner</td>\n",
       "      <td>255.0</td>\n",
       "      <td>FM</td>\n",
       "      <td>False</td>\n",
       "      <td>1.0</td>\n",
       "    </tr>\n",
       "    <tr>\n",
       "      <td>4</td>\n",
       "      <td>25</td>\n",
       "      <td>04/20/2018 11:26:51 AM</td>\n",
       "      <td>680.453125</td>\n",
       "      <td>None</td>\n",
       "      <td>255.0</td>\n",
       "      <td>XM</td>\n",
       "      <td>False</td>\n",
       "      <td>2.0</td>\n",
       "    </tr>\n",
       "  </tbody>\n",
       "</table>\n",
       "</div>"
      ],
      "text/plain": [
       "    id              storedtime  odometer_km  \\\n",
       "0  137   05/04/2018 3:26:14 PM   175.906250   \n",
       "1  840   04/07/2018 8:56:59 PM   147.750000   \n",
       "2  448   05/11/2018 7:00:57 PM   666.203125   \n",
       "3  308   04/06/2018 5:06:19 PM   191.171875   \n",
       "4   25  04/20/2018 11:26:51 AM   680.453125   \n",
       "\n",
       "                   infotainment_data_source  xm_channel tuner muteflg  \\\n",
       "0                                     Tuner       255.0    FM   False   \n",
       "1  External Digital Media (USB Drive, iPod)       255.0    FM   False   \n",
       "2                                       NaN         NaN   NaN     NaN   \n",
       "3                                     Tuner       255.0    FM   False   \n",
       "4                                      None       255.0    XM   False   \n",
       "\n",
       "   tuner_count  \n",
       "0          1.0  \n",
       "1          1.0  \n",
       "2          NaN  \n",
       "3          1.0  \n",
       "4          2.0  "
      ]
     },
     "execution_count": 36,
     "metadata": {},
     "output_type": "execute_result"
    }
   ],
   "source": [
    "df_b.head()"
   ]
  },
  {
   "cell_type": "code",
   "execution_count": 37,
   "metadata": {},
   "outputs": [
    {
     "data": {
      "text/plain": [
       "id                               0\n",
       "storedtime                       0\n",
       "odometer_km                  28816\n",
       "infotainment_data_source    458194\n",
       "xm_channel                  458109\n",
       "tuner                       457940\n",
       "muteflg                     457925\n",
       "tuner_count                 457940\n",
       "dtype: int64"
      ]
     },
     "execution_count": 37,
     "metadata": {},
     "output_type": "execute_result"
    }
   ],
   "source": [
    "df_b.isna().sum()"
   ]
  },
  {
   "cell_type": "markdown",
   "metadata": {},
   "source": [
    "# Main Population Group XM for FIrst Iteration\n",
    "\n",
    "### 86% of Data from 1,000 Unique ID Users"
   ]
  },
  {
   "cell_type": "code",
   "execution_count": 38,
   "metadata": {},
   "outputs": [],
   "source": [
    "df_b = df_b.loc[(df_b.tuner == \"XM\")]"
   ]
  },
  {
   "cell_type": "code",
   "execution_count": 39,
   "metadata": {},
   "outputs": [
    {
     "data": {
      "text/html": [
       "<div>\n",
       "<style scoped>\n",
       "    .dataframe tbody tr th:only-of-type {\n",
       "        vertical-align: middle;\n",
       "    }\n",
       "\n",
       "    .dataframe tbody tr th {\n",
       "        vertical-align: top;\n",
       "    }\n",
       "\n",
       "    .dataframe thead th {\n",
       "        text-align: right;\n",
       "    }\n",
       "</style>\n",
       "<table border=\"1\" class=\"dataframe\">\n",
       "  <thead>\n",
       "    <tr style=\"text-align: right;\">\n",
       "      <th></th>\n",
       "      <th>id</th>\n",
       "      <th>storedtime</th>\n",
       "      <th>odometer_km</th>\n",
       "      <th>infotainment_data_source</th>\n",
       "      <th>xm_channel</th>\n",
       "      <th>tuner</th>\n",
       "      <th>muteflg</th>\n",
       "      <th>tuner_count</th>\n",
       "    </tr>\n",
       "  </thead>\n",
       "  <tbody>\n",
       "    <tr>\n",
       "      <td>4</td>\n",
       "      <td>25</td>\n",
       "      <td>04/20/2018 11:26:51 AM</td>\n",
       "      <td>680.453125</td>\n",
       "      <td>None</td>\n",
       "      <td>255.0</td>\n",
       "      <td>XM</td>\n",
       "      <td>False</td>\n",
       "      <td>2.0</td>\n",
       "    </tr>\n",
       "    <tr>\n",
       "      <td>21</td>\n",
       "      <td>91</td>\n",
       "      <td>04/20/2018 7:39:10 PM</td>\n",
       "      <td>183.250000</td>\n",
       "      <td>None</td>\n",
       "      <td>255.0</td>\n",
       "      <td>XM</td>\n",
       "      <td>False</td>\n",
       "      <td>2.0</td>\n",
       "    </tr>\n",
       "    <tr>\n",
       "      <td>22</td>\n",
       "      <td>601</td>\n",
       "      <td>04/20/2018 9:54:17 PM</td>\n",
       "      <td>3683.312500</td>\n",
       "      <td>External Digital Media (USB Drive, iPod)</td>\n",
       "      <td>255.0</td>\n",
       "      <td>XM</td>\n",
       "      <td>False</td>\n",
       "      <td>2.0</td>\n",
       "    </tr>\n",
       "    <tr>\n",
       "      <td>24</td>\n",
       "      <td>9</td>\n",
       "      <td>04/09/2018 7:29:58 PM</td>\n",
       "      <td>482.765625</td>\n",
       "      <td>XM</td>\n",
       "      <td>26.0</td>\n",
       "      <td>XM</td>\n",
       "      <td>False</td>\n",
       "      <td>2.0</td>\n",
       "    </tr>\n",
       "    <tr>\n",
       "      <td>28</td>\n",
       "      <td>423</td>\n",
       "      <td>04/11/2018 3:10:58 PM</td>\n",
       "      <td>102.093750</td>\n",
       "      <td>None</td>\n",
       "      <td>255.0</td>\n",
       "      <td>XM</td>\n",
       "      <td>False</td>\n",
       "      <td>2.0</td>\n",
       "    </tr>\n",
       "    <tr>\n",
       "      <td>...</td>\n",
       "      <td>...</td>\n",
       "      <td>...</td>\n",
       "      <td>...</td>\n",
       "      <td>...</td>\n",
       "      <td>...</td>\n",
       "      <td>...</td>\n",
       "      <td>...</td>\n",
       "      <td>...</td>\n",
       "    </tr>\n",
       "    <tr>\n",
       "      <td>2062969</td>\n",
       "      <td>988</td>\n",
       "      <td>07/23/2018 11:40:28 PM</td>\n",
       "      <td>6410.437500</td>\n",
       "      <td>XM</td>\n",
       "      <td>59.0</td>\n",
       "      <td>XM</td>\n",
       "      <td>False</td>\n",
       "      <td>2.0</td>\n",
       "    </tr>\n",
       "    <tr>\n",
       "      <td>2062970</td>\n",
       "      <td>988</td>\n",
       "      <td>07/23/2018 11:45:29 PM</td>\n",
       "      <td>6414.515625</td>\n",
       "      <td>XM</td>\n",
       "      <td>59.0</td>\n",
       "      <td>XM</td>\n",
       "      <td>False</td>\n",
       "      <td>2.0</td>\n",
       "    </tr>\n",
       "    <tr>\n",
       "      <td>2062971</td>\n",
       "      <td>988</td>\n",
       "      <td>07/23/2018 11:50:30 PM</td>\n",
       "      <td>6416.890625</td>\n",
       "      <td>XM</td>\n",
       "      <td>59.0</td>\n",
       "      <td>XM</td>\n",
       "      <td>False</td>\n",
       "      <td>2.0</td>\n",
       "    </tr>\n",
       "    <tr>\n",
       "      <td>2062972</td>\n",
       "      <td>988</td>\n",
       "      <td>07/23/2018 11:55:31 PM</td>\n",
       "      <td>6421.234375</td>\n",
       "      <td>XM</td>\n",
       "      <td>59.0</td>\n",
       "      <td>XM</td>\n",
       "      <td>False</td>\n",
       "      <td>2.0</td>\n",
       "    </tr>\n",
       "    <tr>\n",
       "      <td>2062973</td>\n",
       "      <td>988</td>\n",
       "      <td>07/08/2018 10:35:41 PM</td>\n",
       "      <td>5226.140625</td>\n",
       "      <td>XM</td>\n",
       "      <td>59.0</td>\n",
       "      <td>XM</td>\n",
       "      <td>False</td>\n",
       "      <td>2.0</td>\n",
       "    </tr>\n",
       "  </tbody>\n",
       "</table>\n",
       "<p>619884 rows × 8 columns</p>\n",
       "</div>"
      ],
      "text/plain": [
       "          id              storedtime  odometer_km  \\\n",
       "4         25  04/20/2018 11:26:51 AM   680.453125   \n",
       "21        91   04/20/2018 7:39:10 PM   183.250000   \n",
       "22       601   04/20/2018 9:54:17 PM  3683.312500   \n",
       "24         9   04/09/2018 7:29:58 PM   482.765625   \n",
       "28       423   04/11/2018 3:10:58 PM   102.093750   \n",
       "...      ...                     ...          ...   \n",
       "2062969  988  07/23/2018 11:40:28 PM  6410.437500   \n",
       "2062970  988  07/23/2018 11:45:29 PM  6414.515625   \n",
       "2062971  988  07/23/2018 11:50:30 PM  6416.890625   \n",
       "2062972  988  07/23/2018 11:55:31 PM  6421.234375   \n",
       "2062973  988  07/08/2018 10:35:41 PM  5226.140625   \n",
       "\n",
       "                         infotainment_data_source  xm_channel tuner muteflg  \\\n",
       "4                                            None       255.0    XM   False   \n",
       "21                                           None       255.0    XM   False   \n",
       "22       External Digital Media (USB Drive, iPod)       255.0    XM   False   \n",
       "24                                             XM        26.0    XM   False   \n",
       "28                                           None       255.0    XM   False   \n",
       "...                                           ...         ...   ...     ...   \n",
       "2062969                                        XM        59.0    XM   False   \n",
       "2062970                                        XM        59.0    XM   False   \n",
       "2062971                                        XM        59.0    XM   False   \n",
       "2062972                                        XM        59.0    XM   False   \n",
       "2062973                                        XM        59.0    XM   False   \n",
       "\n",
       "         tuner_count  \n",
       "4                2.0  \n",
       "21               2.0  \n",
       "22               2.0  \n",
       "24               2.0  \n",
       "28               2.0  \n",
       "...              ...  \n",
       "2062969          2.0  \n",
       "2062970          2.0  \n",
       "2062971          2.0  \n",
       "2062972          2.0  \n",
       "2062973          2.0  \n",
       "\n",
       "[619884 rows x 8 columns]"
      ]
     },
     "execution_count": 39,
     "metadata": {},
     "output_type": "execute_result"
    }
   ],
   "source": [
    "df_b"
   ]
  },
  {
   "cell_type": "code",
   "execution_count": 40,
   "metadata": {},
   "outputs": [
    {
     "data": {
      "text/plain": [
       "False    567729\n",
       "True      51227\n",
       "Name: muteflg, dtype: int64"
      ]
     },
     "execution_count": 40,
     "metadata": {},
     "output_type": "execute_result"
    }
   ],
   "source": [
    "df_b['muteflg'].value_counts()"
   ]
  },
  {
   "cell_type": "code",
   "execution_count": 41,
   "metadata": {},
   "outputs": [
    {
     "data": {
      "text/plain": [
       "255.0    186475\n",
       "56.0      25056\n",
       "58.0      22112\n",
       "61.0      19257\n",
       "6.0       16553\n",
       "          ...  \n",
       "200.0         1\n",
       "233.0         1\n",
       "191.0         1\n",
       "229.0         1\n",
       "225.0         1\n",
       "Name: xm_channel, Length: 202, dtype: int64"
      ]
     },
     "execution_count": 41,
     "metadata": {},
     "output_type": "execute_result"
    }
   ],
   "source": [
    "#202 Unique XM channels\n",
    "df_b['xm_channel'].value_counts()"
   ]
  },
  {
   "cell_type": "code",
   "execution_count": 42,
   "metadata": {},
   "outputs": [
    {
     "data": {
      "text/plain": [
       "728    3940\n",
       "37     3416\n",
       "927    3258\n",
       "483    3257\n",
       "633    3236\n",
       "       ... \n",
       "534       1\n",
       "186       1\n",
       "722       1\n",
       "245       1\n",
       "31        1\n",
       "Name: id, Length: 886, dtype: int64"
      ]
     },
     "execution_count": 42,
     "metadata": {},
     "output_type": "execute_result"
    }
   ],
   "source": [
    "#858 Uniuqe IDs \n",
    "#87% of the ID (users use XM) there are 1000 unique users with attachment A\n",
    "df_b['id'].value_counts()"
   ]
  },
  {
   "cell_type": "code",
   "execution_count": 43,
   "metadata": {},
   "outputs": [
    {
     "name": "stdout",
     "output_type": "stream",
     "text": [
      "                                       column_name  percent_missing\n",
      "id                                              id         0.000000\n",
      "storedtime                              storedtime         0.000000\n",
      "odometer_km                            odometer_km         0.182776\n",
      "infotainment_data_source  infotainment_data_source         0.117280\n",
      "xm_channel                              xm_channel         0.192778\n",
      "tuner                                        tuner         0.000000\n",
      "muteflg                                    muteflg         0.149705\n",
      "tuner_count                            tuner_count         0.000000\n"
     ]
    }
   ],
   "source": [
    "#Notice how low missing values are with main population\n",
    "percent_missing = df_b.isnull().sum() * 100 / len(df_b)\n",
    "missing_value_df_b = pd.DataFrame({'column_name': df_b.columns,\n",
    "                                 'percent_missing': percent_missing})\n",
    "print(missing_value_df_b)"
   ]
  },
  {
   "cell_type": "code",
   "execution_count": 44,
   "metadata": {},
   "outputs": [
    {
     "data": {
      "text/html": [
       "<div>\n",
       "<style scoped>\n",
       "    .dataframe tbody tr th:only-of-type {\n",
       "        vertical-align: middle;\n",
       "    }\n",
       "\n",
       "    .dataframe tbody tr th {\n",
       "        vertical-align: top;\n",
       "    }\n",
       "\n",
       "    .dataframe thead th {\n",
       "        text-align: right;\n",
       "    }\n",
       "</style>\n",
       "<table border=\"1\" class=\"dataframe\">\n",
       "  <thead>\n",
       "    <tr style=\"text-align: right;\">\n",
       "      <th></th>\n",
       "      <th>id</th>\n",
       "      <th>storedtime</th>\n",
       "      <th>odometer_km</th>\n",
       "      <th>infotainment_data_source</th>\n",
       "      <th>xm_channel</th>\n",
       "      <th>tuner</th>\n",
       "      <th>muteflg</th>\n",
       "      <th>tuner_count</th>\n",
       "    </tr>\n",
       "  </thead>\n",
       "  <tbody>\n",
       "    <tr>\n",
       "      <td>4</td>\n",
       "      <td>25</td>\n",
       "      <td>04/20/2018 11:26:51 AM</td>\n",
       "      <td>680.453125</td>\n",
       "      <td>None</td>\n",
       "      <td>255.0</td>\n",
       "      <td>XM</td>\n",
       "      <td>False</td>\n",
       "      <td>2.0</td>\n",
       "    </tr>\n",
       "    <tr>\n",
       "      <td>21</td>\n",
       "      <td>91</td>\n",
       "      <td>04/20/2018 7:39:10 PM</td>\n",
       "      <td>183.250000</td>\n",
       "      <td>None</td>\n",
       "      <td>255.0</td>\n",
       "      <td>XM</td>\n",
       "      <td>False</td>\n",
       "      <td>2.0</td>\n",
       "    </tr>\n",
       "    <tr>\n",
       "      <td>22</td>\n",
       "      <td>601</td>\n",
       "      <td>04/20/2018 9:54:17 PM</td>\n",
       "      <td>3683.312500</td>\n",
       "      <td>External Digital Media (USB Drive, iPod)</td>\n",
       "      <td>255.0</td>\n",
       "      <td>XM</td>\n",
       "      <td>False</td>\n",
       "      <td>2.0</td>\n",
       "    </tr>\n",
       "    <tr>\n",
       "      <td>24</td>\n",
       "      <td>9</td>\n",
       "      <td>04/09/2018 7:29:58 PM</td>\n",
       "      <td>482.765625</td>\n",
       "      <td>XM</td>\n",
       "      <td>26.0</td>\n",
       "      <td>XM</td>\n",
       "      <td>False</td>\n",
       "      <td>2.0</td>\n",
       "    </tr>\n",
       "    <tr>\n",
       "      <td>28</td>\n",
       "      <td>423</td>\n",
       "      <td>04/11/2018 3:10:58 PM</td>\n",
       "      <td>102.093750</td>\n",
       "      <td>None</td>\n",
       "      <td>255.0</td>\n",
       "      <td>XM</td>\n",
       "      <td>False</td>\n",
       "      <td>2.0</td>\n",
       "    </tr>\n",
       "  </tbody>\n",
       "</table>\n",
       "</div>"
      ],
      "text/plain": [
       "     id              storedtime  odometer_km  \\\n",
       "4    25  04/20/2018 11:26:51 AM   680.453125   \n",
       "21   91   04/20/2018 7:39:10 PM   183.250000   \n",
       "22  601   04/20/2018 9:54:17 PM  3683.312500   \n",
       "24    9   04/09/2018 7:29:58 PM   482.765625   \n",
       "28  423   04/11/2018 3:10:58 PM   102.093750   \n",
       "\n",
       "                    infotainment_data_source  xm_channel tuner muteflg  \\\n",
       "4                                       None       255.0    XM   False   \n",
       "21                                      None       255.0    XM   False   \n",
       "22  External Digital Media (USB Drive, iPod)       255.0    XM   False   \n",
       "24                                        XM        26.0    XM   False   \n",
       "28                                      None       255.0    XM   False   \n",
       "\n",
       "    tuner_count  \n",
       "4           2.0  \n",
       "21          2.0  \n",
       "22          2.0  \n",
       "24          2.0  \n",
       "28          2.0  "
      ]
     },
     "execution_count": 44,
     "metadata": {},
     "output_type": "execute_result"
    }
   ],
   "source": [
    "df_b.head()"
   ]
  },
  {
   "cell_type": "markdown",
   "metadata": {},
   "source": [
    "# Per Instructions, Spent Most Time on EDA on Attachment B\n",
    "## Joined with SiriuXM Representative Sample"
   ]
  },
  {
   "cell_type": "code",
   "execution_count": 45,
   "metadata": {},
   "outputs": [
    {
     "data": {
      "text/html": [
       "<div>\n",
       "<style scoped>\n",
       "    .dataframe tbody tr th:only-of-type {\n",
       "        vertical-align: middle;\n",
       "    }\n",
       "\n",
       "    .dataframe tbody tr th {\n",
       "        vertical-align: top;\n",
       "    }\n",
       "\n",
       "    .dataframe thead th {\n",
       "        text-align: right;\n",
       "    }\n",
       "</style>\n",
       "<table border=\"1\" class=\"dataframe\">\n",
       "  <thead>\n",
       "    <tr style=\"text-align: right;\">\n",
       "      <th></th>\n",
       "      <th>id</th>\n",
       "      <th>storedtime</th>\n",
       "      <th>odometer_km</th>\n",
       "      <th>infotainment_data_source</th>\n",
       "      <th>xm_channel</th>\n",
       "      <th>tuner</th>\n",
       "      <th>muteflg</th>\n",
       "      <th>tuner_count</th>\n",
       "      <th>trial_start_date</th>\n",
       "      <th>trial_end_date</th>\n",
       "      <th>conversion</th>\n",
       "      <th>start_date</th>\n",
       "      <th>end_date</th>\n",
       "      <th>date_difference</th>\n",
       "      <th>subscribers</th>\n",
       "    </tr>\n",
       "  </thead>\n",
       "  <tbody>\n",
       "    <tr>\n",
       "      <td>0</td>\n",
       "      <td>25</td>\n",
       "      <td>04/20/2018 11:26:51 AM</td>\n",
       "      <td>680.453125</td>\n",
       "      <td>None</td>\n",
       "      <td>255.0</td>\n",
       "      <td>XM</td>\n",
       "      <td>False</td>\n",
       "      <td>2.0</td>\n",
       "      <td>04/14/2018</td>\n",
       "      <td>07/14/2018</td>\n",
       "      <td>0</td>\n",
       "      <td>2018-04-14</td>\n",
       "      <td>2018-07-14</td>\n",
       "      <td>91 days</td>\n",
       "      <td>False</td>\n",
       "    </tr>\n",
       "    <tr>\n",
       "      <td>1</td>\n",
       "      <td>25</td>\n",
       "      <td>07/10/2018 11:04:43 PM</td>\n",
       "      <td>4533.343750</td>\n",
       "      <td>XM</td>\n",
       "      <td>13.0</td>\n",
       "      <td>XM</td>\n",
       "      <td>False</td>\n",
       "      <td>2.0</td>\n",
       "      <td>04/14/2018</td>\n",
       "      <td>07/14/2018</td>\n",
       "      <td>0</td>\n",
       "      <td>2018-04-14</td>\n",
       "      <td>2018-07-14</td>\n",
       "      <td>91 days</td>\n",
       "      <td>False</td>\n",
       "    </tr>\n",
       "    <tr>\n",
       "      <td>2</td>\n",
       "      <td>25</td>\n",
       "      <td>06/08/2018 11:01:49 PM</td>\n",
       "      <td>3430.109375</td>\n",
       "      <td>XM</td>\n",
       "      <td>37.0</td>\n",
       "      <td>XM</td>\n",
       "      <td>False</td>\n",
       "      <td>2.0</td>\n",
       "      <td>04/14/2018</td>\n",
       "      <td>07/14/2018</td>\n",
       "      <td>0</td>\n",
       "      <td>2018-04-14</td>\n",
       "      <td>2018-07-14</td>\n",
       "      <td>91 days</td>\n",
       "      <td>False</td>\n",
       "    </tr>\n",
       "    <tr>\n",
       "      <td>3</td>\n",
       "      <td>25</td>\n",
       "      <td>07/03/2018 11:43:56 PM</td>\n",
       "      <td>4279.843750</td>\n",
       "      <td>XM</td>\n",
       "      <td>13.0</td>\n",
       "      <td>XM</td>\n",
       "      <td>False</td>\n",
       "      <td>2.0</td>\n",
       "      <td>04/14/2018</td>\n",
       "      <td>07/14/2018</td>\n",
       "      <td>0</td>\n",
       "      <td>2018-04-14</td>\n",
       "      <td>2018-07-14</td>\n",
       "      <td>91 days</td>\n",
       "      <td>False</td>\n",
       "    </tr>\n",
       "    <tr>\n",
       "      <td>4</td>\n",
       "      <td>25</td>\n",
       "      <td>04/24/2018 11:45:25 AM</td>\n",
       "      <td>839.328125</td>\n",
       "      <td>XM</td>\n",
       "      <td>57.0</td>\n",
       "      <td>XM</td>\n",
       "      <td>False</td>\n",
       "      <td>2.0</td>\n",
       "      <td>04/14/2018</td>\n",
       "      <td>07/14/2018</td>\n",
       "      <td>0</td>\n",
       "      <td>2018-04-14</td>\n",
       "      <td>2018-07-14</td>\n",
       "      <td>91 days</td>\n",
       "      <td>False</td>\n",
       "    </tr>\n",
       "    <tr>\n",
       "      <td>...</td>\n",
       "      <td>...</td>\n",
       "      <td>...</td>\n",
       "      <td>...</td>\n",
       "      <td>...</td>\n",
       "      <td>...</td>\n",
       "      <td>...</td>\n",
       "      <td>...</td>\n",
       "      <td>...</td>\n",
       "      <td>...</td>\n",
       "      <td>...</td>\n",
       "      <td>...</td>\n",
       "      <td>...</td>\n",
       "      <td>...</td>\n",
       "      <td>...</td>\n",
       "      <td>...</td>\n",
       "    </tr>\n",
       "    <tr>\n",
       "      <td>619879</td>\n",
       "      <td>964</td>\n",
       "      <td>05/30/2018 3:54:25 AM</td>\n",
       "      <td>4046.437500</td>\n",
       "      <td>XM</td>\n",
       "      <td>64.0</td>\n",
       "      <td>XM</td>\n",
       "      <td>False</td>\n",
       "      <td>2.0</td>\n",
       "      <td>04/04/2018</td>\n",
       "      <td>07/04/2018</td>\n",
       "      <td>0</td>\n",
       "      <td>2018-04-04</td>\n",
       "      <td>2018-07-04</td>\n",
       "      <td>91 days</td>\n",
       "      <td>False</td>\n",
       "    </tr>\n",
       "    <tr>\n",
       "      <td>619880</td>\n",
       "      <td>964</td>\n",
       "      <td>05/29/2018 8:45:14 PM</td>\n",
       "      <td>4012.093750</td>\n",
       "      <td>XM</td>\n",
       "      <td>64.0</td>\n",
       "      <td>XM</td>\n",
       "      <td>False</td>\n",
       "      <td>2.0</td>\n",
       "      <td>04/04/2018</td>\n",
       "      <td>07/04/2018</td>\n",
       "      <td>0</td>\n",
       "      <td>2018-04-04</td>\n",
       "      <td>2018-07-04</td>\n",
       "      <td>91 days</td>\n",
       "      <td>False</td>\n",
       "    </tr>\n",
       "    <tr>\n",
       "      <td>619881</td>\n",
       "      <td>964</td>\n",
       "      <td>05/30/2018 1:32:52 AM</td>\n",
       "      <td>4029.453125</td>\n",
       "      <td>XM</td>\n",
       "      <td>64.0</td>\n",
       "      <td>XM</td>\n",
       "      <td>False</td>\n",
       "      <td>2.0</td>\n",
       "      <td>04/04/2018</td>\n",
       "      <td>07/04/2018</td>\n",
       "      <td>0</td>\n",
       "      <td>2018-04-04</td>\n",
       "      <td>2018-07-04</td>\n",
       "      <td>91 days</td>\n",
       "      <td>False</td>\n",
       "    </tr>\n",
       "    <tr>\n",
       "      <td>619882</td>\n",
       "      <td>964</td>\n",
       "      <td>05/30/2018 11:54:06 PM</td>\n",
       "      <td>4048.703125</td>\n",
       "      <td>XM</td>\n",
       "      <td>64.0</td>\n",
       "      <td>XM</td>\n",
       "      <td>False</td>\n",
       "      <td>2.0</td>\n",
       "      <td>04/04/2018</td>\n",
       "      <td>07/04/2018</td>\n",
       "      <td>0</td>\n",
       "      <td>2018-04-04</td>\n",
       "      <td>2018-07-04</td>\n",
       "      <td>91 days</td>\n",
       "      <td>False</td>\n",
       "    </tr>\n",
       "    <tr>\n",
       "      <td>619883</td>\n",
       "      <td>964</td>\n",
       "      <td>05/30/2018 11:59:07 PM</td>\n",
       "      <td>4051.125000</td>\n",
       "      <td>XM</td>\n",
       "      <td>66.0</td>\n",
       "      <td>XM</td>\n",
       "      <td>False</td>\n",
       "      <td>2.0</td>\n",
       "      <td>04/04/2018</td>\n",
       "      <td>07/04/2018</td>\n",
       "      <td>0</td>\n",
       "      <td>2018-04-04</td>\n",
       "      <td>2018-07-04</td>\n",
       "      <td>91 days</td>\n",
       "      <td>False</td>\n",
       "    </tr>\n",
       "  </tbody>\n",
       "</table>\n",
       "<p>619884 rows × 15 columns</p>\n",
       "</div>"
      ],
      "text/plain": [
       "         id              storedtime  odometer_km infotainment_data_source  \\\n",
       "0        25  04/20/2018 11:26:51 AM   680.453125                     None   \n",
       "1        25  07/10/2018 11:04:43 PM  4533.343750                       XM   \n",
       "2        25  06/08/2018 11:01:49 PM  3430.109375                       XM   \n",
       "3        25  07/03/2018 11:43:56 PM  4279.843750                       XM   \n",
       "4        25  04/24/2018 11:45:25 AM   839.328125                       XM   \n",
       "...     ...                     ...          ...                      ...   \n",
       "619879  964   05/30/2018 3:54:25 AM  4046.437500                       XM   \n",
       "619880  964   05/29/2018 8:45:14 PM  4012.093750                       XM   \n",
       "619881  964   05/30/2018 1:32:52 AM  4029.453125                       XM   \n",
       "619882  964  05/30/2018 11:54:06 PM  4048.703125                       XM   \n",
       "619883  964  05/30/2018 11:59:07 PM  4051.125000                       XM   \n",
       "\n",
       "        xm_channel tuner muteflg  tuner_count trial_start_date trial_end_date  \\\n",
       "0            255.0    XM   False          2.0       04/14/2018     07/14/2018   \n",
       "1             13.0    XM   False          2.0       04/14/2018     07/14/2018   \n",
       "2             37.0    XM   False          2.0       04/14/2018     07/14/2018   \n",
       "3             13.0    XM   False          2.0       04/14/2018     07/14/2018   \n",
       "4             57.0    XM   False          2.0       04/14/2018     07/14/2018   \n",
       "...            ...   ...     ...          ...              ...            ...   \n",
       "619879        64.0    XM   False          2.0       04/04/2018     07/04/2018   \n",
       "619880        64.0    XM   False          2.0       04/04/2018     07/04/2018   \n",
       "619881        64.0    XM   False          2.0       04/04/2018     07/04/2018   \n",
       "619882        64.0    XM   False          2.0       04/04/2018     07/04/2018   \n",
       "619883        66.0    XM   False          2.0       04/04/2018     07/04/2018   \n",
       "\n",
       "        conversion start_date   end_date date_difference  subscribers  \n",
       "0                0 2018-04-14 2018-07-14         91 days        False  \n",
       "1                0 2018-04-14 2018-07-14         91 days        False  \n",
       "2                0 2018-04-14 2018-07-14         91 days        False  \n",
       "3                0 2018-04-14 2018-07-14         91 days        False  \n",
       "4                0 2018-04-14 2018-07-14         91 days        False  \n",
       "...            ...        ...        ...             ...          ...  \n",
       "619879           0 2018-04-04 2018-07-04         91 days        False  \n",
       "619880           0 2018-04-04 2018-07-04         91 days        False  \n",
       "619881           0 2018-04-04 2018-07-04         91 days        False  \n",
       "619882           0 2018-04-04 2018-07-04         91 days        False  \n",
       "619883           0 2018-04-04 2018-07-04         91 days        False  \n",
       "\n",
       "[619884 rows x 15 columns]"
      ]
     },
     "execution_count": 45,
     "metadata": {},
     "output_type": "execute_result"
    }
   ],
   "source": [
    "df_ab=pd.merge(df_b,df_a,on='id')\n",
    "df_ab"
   ]
  },
  {
   "cell_type": "markdown",
   "metadata": {},
   "source": [
    "# More EDA"
   ]
  },
  {
   "cell_type": "code",
   "execution_count": 51,
   "metadata": {},
   "outputs": [
    {
     "data": {
      "text/html": [
       "<div>\n",
       "<style scoped>\n",
       "    .dataframe tbody tr th:only-of-type {\n",
       "        vertical-align: middle;\n",
       "    }\n",
       "\n",
       "    .dataframe tbody tr th {\n",
       "        vertical-align: top;\n",
       "    }\n",
       "\n",
       "    .dataframe thead th {\n",
       "        text-align: right;\n",
       "    }\n",
       "</style>\n",
       "<table border=\"1\" class=\"dataframe\">\n",
       "  <thead>\n",
       "    <tr style=\"text-align: right;\">\n",
       "      <th></th>\n",
       "    </tr>\n",
       "  </thead>\n",
       "  <tbody>\n",
       "  </tbody>\n",
       "</table>\n",
       "</div>"
      ],
      "text/plain": [
       "Empty DataFrame\n",
       "Columns: []\n",
       "Index: []"
      ]
     },
     "execution_count": 51,
     "metadata": {},
     "output_type": "execute_result"
    }
   ],
   "source": [
    "# odemeter is not correlated to any channels or count of channels listed to for df_b\n",
    "df_b.select_dtypes(['float64' , 'int64']).corr()"
   ]
  },
  {
   "cell_type": "code",
   "execution_count": 84,
   "metadata": {},
   "outputs": [
    {
     "data": {
      "text/html": [
       "<div>\n",
       "<style scoped>\n",
       "    .dataframe tbody tr th:only-of-type {\n",
       "        vertical-align: middle;\n",
       "    }\n",
       "\n",
       "    .dataframe tbody tr th {\n",
       "        vertical-align: top;\n",
       "    }\n",
       "\n",
       "    .dataframe thead th {\n",
       "        text-align: right;\n",
       "    }\n",
       "</style>\n",
       "<table border=\"1\" class=\"dataframe\">\n",
       "  <thead>\n",
       "    <tr style=\"text-align: right;\">\n",
       "      <th></th>\n",
       "      <th>id</th>\n",
       "      <th>odometer_km</th>\n",
       "      <th>xm_channel</th>\n",
       "      <th>tuner_count</th>\n",
       "    </tr>\n",
       "  </thead>\n",
       "  <tbody>\n",
       "    <tr>\n",
       "      <td>id</td>\n",
       "      <td>1.000000</td>\n",
       "      <td>-0.007114</td>\n",
       "      <td>-0.009058</td>\n",
       "      <td>-0.010131</td>\n",
       "    </tr>\n",
       "    <tr>\n",
       "      <td>odometer_km</td>\n",
       "      <td>-0.007114</td>\n",
       "      <td>1.000000</td>\n",
       "      <td>0.013288</td>\n",
       "      <td>-0.034587</td>\n",
       "    </tr>\n",
       "    <tr>\n",
       "      <td>xm_channel</td>\n",
       "      <td>-0.009058</td>\n",
       "      <td>0.013288</td>\n",
       "      <td>1.000000</td>\n",
       "      <td>-0.159592</td>\n",
       "    </tr>\n",
       "    <tr>\n",
       "      <td>tuner_count</td>\n",
       "      <td>-0.010131</td>\n",
       "      <td>-0.034587</td>\n",
       "      <td>-0.159592</td>\n",
       "      <td>1.000000</td>\n",
       "    </tr>\n",
       "  </tbody>\n",
       "</table>\n",
       "</div>"
      ],
      "text/plain": [
       "                   id  odometer_km  xm_channel  tuner_count\n",
       "id           1.000000    -0.007114   -0.009058    -0.010131\n",
       "odometer_km -0.007114     1.000000    0.013288    -0.034587\n",
       "xm_channel  -0.009058     0.013288    1.000000    -0.159592\n",
       "tuner_count -0.010131    -0.034587   -0.159592     1.000000"
      ]
     },
     "execution_count": 84,
     "metadata": {},
     "output_type": "execute_result"
    }
   ],
   "source": [
    "df_b.corr()"
   ]
  },
  {
   "cell_type": "code",
   "execution_count": 85,
   "metadata": {},
   "outputs": [
    {
     "data": {
      "image/png": "[encoded data removed]",
      "text/plain": [
       "<Figure size 432x288 with 2 Axes>"
      ]
     },
     "metadata": {
      "needs_background": "light"
     },
     "output_type": "display_data"
    }
   ],
   "source": [
    "sns.heatmap(df_b.select_dtypes(['float64' , 'int64']).corr(),annot=True)\n",
    "plt.show()"
   ]
  },
  {
   "cell_type": "code",
   "execution_count": 89,
   "metadata": {},
   "outputs": [
    {
     "data": {
      "image/png": "[encoded data removed]",
      "text/plain": [
       "<Figure size 432x288 with 1 Axes>"
      ]
     },
     "metadata": {
      "needs_background": "light"
     },
     "output_type": "display_data"
    }
   ],
   "source": [
    "df_b.groupby('infotainment_data_source').infotainment_data_source.count().plot(kind='bar')\n",
    "plt.show()"
   ]
  },
  {
   "cell_type": "code",
   "execution_count": 70,
   "metadata": {},
   "outputs": [
    {
     "data": {
      "image/png": "[encoded data removed]",
      "text/plain": [
       "<Figure size 432x288 with 1 Axes>"
      ]
     },
     "metadata": {
      "needs_background": "light"
     },
     "output_type": "display_data"
    }
   ],
   "source": [
    "summary=df_b.groupby('tuner').id.count()\n",
    "plt.bar(x=summary.index , height=summary.values)\n",
    "plt.show()"
   ]
  },
  {
   "cell_type": "code",
   "execution_count": 71,
   "metadata": {
    "scrolled": true
   },
   "outputs": [
    {
     "data": {
      "image/png": "[encoded data removed]",
      "text/plain": [
       "<Figure size 432x288 with 1 Axes>"
      ]
     },
     "metadata": {
      "needs_background": "light"
     },
     "output_type": "display_data"
    }
   ],
   "source": [
    "sns.barplot(x=summary.index , y=summary.values)\n",
    "plt.show()"
   ]
  },
  {
   "cell_type": "markdown",
   "metadata": {},
   "source": [
    "# Total occurances"
   ]
  },
  {
   "cell_type": "code",
   "execution_count": 49,
   "metadata": {},
   "outputs": [],
   "source": [
    "#determine total occurances for most active IDs to later determine\n",
    "#if they are most likely to become subsrcibers \n",
    "df_ab['total_id_counts'] = df_ab.groupby('id').id.transform('count')"
   ]
  },
  {
   "cell_type": "code",
   "execution_count": 50,
   "metadata": {},
   "outputs": [],
   "source": [
    "#determine total occurances for most active IDs to later determine\n",
    "#if they are most likely to become subsrcibers \n",
    "df_ab['total_id_counts'] = df_ab.groupby('id').id.transform('count')"
   ]
  },
  {
   "cell_type": "code",
   "execution_count": 51,
   "metadata": {},
   "outputs": [
    {
     "data": {
      "text/html": [
       "<div>\n",
       "<style scoped>\n",
       "    .dataframe tbody tr th:only-of-type {\n",
       "        vertical-align: middle;\n",
       "    }\n",
       "\n",
       "    .dataframe tbody tr th {\n",
       "        vertical-align: top;\n",
       "    }\n",
       "\n",
       "    .dataframe thead th {\n",
       "        text-align: right;\n",
       "    }\n",
       "</style>\n",
       "<table border=\"1\" class=\"dataframe\">\n",
       "  <thead>\n",
       "    <tr style=\"text-align: right;\">\n",
       "      <th></th>\n",
       "      <th>id</th>\n",
       "      <th>storedtime</th>\n",
       "      <th>odometer_km</th>\n",
       "      <th>infotainment_data_source</th>\n",
       "      <th>xm_channel</th>\n",
       "      <th>tuner</th>\n",
       "      <th>muteflg</th>\n",
       "      <th>tuner_count</th>\n",
       "      <th>trial_start_date</th>\n",
       "      <th>trial_end_date</th>\n",
       "      <th>conversion</th>\n",
       "      <th>start_date</th>\n",
       "      <th>end_date</th>\n",
       "      <th>date_difference</th>\n",
       "      <th>subscribers</th>\n",
       "      <th>total_id_counts</th>\n",
       "    </tr>\n",
       "  </thead>\n",
       "  <tbody>\n",
       "    <tr>\n",
       "      <td>0</td>\n",
       "      <td>25</td>\n",
       "      <td>04/20/2018 11:26:51 AM</td>\n",
       "      <td>680.453125</td>\n",
       "      <td>None</td>\n",
       "      <td>255.0</td>\n",
       "      <td>XM</td>\n",
       "      <td>False</td>\n",
       "      <td>2.0</td>\n",
       "      <td>04/14/2018</td>\n",
       "      <td>07/14/2018</td>\n",
       "      <td>0</td>\n",
       "      <td>2018-04-14</td>\n",
       "      <td>2018-07-14</td>\n",
       "      <td>91 days</td>\n",
       "      <td>False</td>\n",
       "      <td>517</td>\n",
       "    </tr>\n",
       "    <tr>\n",
       "      <td>1</td>\n",
       "      <td>25</td>\n",
       "      <td>07/10/2018 11:04:43 PM</td>\n",
       "      <td>4533.343750</td>\n",
       "      <td>XM</td>\n",
       "      <td>13.0</td>\n",
       "      <td>XM</td>\n",
       "      <td>False</td>\n",
       "      <td>2.0</td>\n",
       "      <td>04/14/2018</td>\n",
       "      <td>07/14/2018</td>\n",
       "      <td>0</td>\n",
       "      <td>2018-04-14</td>\n",
       "      <td>2018-07-14</td>\n",
       "      <td>91 days</td>\n",
       "      <td>False</td>\n",
       "      <td>517</td>\n",
       "    </tr>\n",
       "    <tr>\n",
       "      <td>2</td>\n",
       "      <td>25</td>\n",
       "      <td>06/08/2018 11:01:49 PM</td>\n",
       "      <td>3430.109375</td>\n",
       "      <td>XM</td>\n",
       "      <td>37.0</td>\n",
       "      <td>XM</td>\n",
       "      <td>False</td>\n",
       "      <td>2.0</td>\n",
       "      <td>04/14/2018</td>\n",
       "      <td>07/14/2018</td>\n",
       "      <td>0</td>\n",
       "      <td>2018-04-14</td>\n",
       "      <td>2018-07-14</td>\n",
       "      <td>91 days</td>\n",
       "      <td>False</td>\n",
       "      <td>517</td>\n",
       "    </tr>\n",
       "    <tr>\n",
       "      <td>3</td>\n",
       "      <td>25</td>\n",
       "      <td>07/03/2018 11:43:56 PM</td>\n",
       "      <td>4279.843750</td>\n",
       "      <td>XM</td>\n",
       "      <td>13.0</td>\n",
       "      <td>XM</td>\n",
       "      <td>False</td>\n",
       "      <td>2.0</td>\n",
       "      <td>04/14/2018</td>\n",
       "      <td>07/14/2018</td>\n",
       "      <td>0</td>\n",
       "      <td>2018-04-14</td>\n",
       "      <td>2018-07-14</td>\n",
       "      <td>91 days</td>\n",
       "      <td>False</td>\n",
       "      <td>517</td>\n",
       "    </tr>\n",
       "    <tr>\n",
       "      <td>4</td>\n",
       "      <td>25</td>\n",
       "      <td>04/24/2018 11:45:25 AM</td>\n",
       "      <td>839.328125</td>\n",
       "      <td>XM</td>\n",
       "      <td>57.0</td>\n",
       "      <td>XM</td>\n",
       "      <td>False</td>\n",
       "      <td>2.0</td>\n",
       "      <td>04/14/2018</td>\n",
       "      <td>07/14/2018</td>\n",
       "      <td>0</td>\n",
       "      <td>2018-04-14</td>\n",
       "      <td>2018-07-14</td>\n",
       "      <td>91 days</td>\n",
       "      <td>False</td>\n",
       "      <td>517</td>\n",
       "    </tr>\n",
       "    <tr>\n",
       "      <td>...</td>\n",
       "      <td>...</td>\n",
       "      <td>...</td>\n",
       "      <td>...</td>\n",
       "      <td>...</td>\n",
       "      <td>...</td>\n",
       "      <td>...</td>\n",
       "      <td>...</td>\n",
       "      <td>...</td>\n",
       "      <td>...</td>\n",
       "      <td>...</td>\n",
       "      <td>...</td>\n",
       "      <td>...</td>\n",
       "      <td>...</td>\n",
       "      <td>...</td>\n",
       "      <td>...</td>\n",
       "      <td>...</td>\n",
       "    </tr>\n",
       "    <tr>\n",
       "      <td>619879</td>\n",
       "      <td>964</td>\n",
       "      <td>05/30/2018 3:54:25 AM</td>\n",
       "      <td>4046.437500</td>\n",
       "      <td>XM</td>\n",
       "      <td>64.0</td>\n",
       "      <td>XM</td>\n",
       "      <td>False</td>\n",
       "      <td>2.0</td>\n",
       "      <td>04/04/2018</td>\n",
       "      <td>07/04/2018</td>\n",
       "      <td>0</td>\n",
       "      <td>2018-04-04</td>\n",
       "      <td>2018-07-04</td>\n",
       "      <td>91 days</td>\n",
       "      <td>False</td>\n",
       "      <td>51</td>\n",
       "    </tr>\n",
       "    <tr>\n",
       "      <td>619880</td>\n",
       "      <td>964</td>\n",
       "      <td>05/29/2018 8:45:14 PM</td>\n",
       "      <td>4012.093750</td>\n",
       "      <td>XM</td>\n",
       "      <td>64.0</td>\n",
       "      <td>XM</td>\n",
       "      <td>False</td>\n",
       "      <td>2.0</td>\n",
       "      <td>04/04/2018</td>\n",
       "      <td>07/04/2018</td>\n",
       "      <td>0</td>\n",
       "      <td>2018-04-04</td>\n",
       "      <td>2018-07-04</td>\n",
       "      <td>91 days</td>\n",
       "      <td>False</td>\n",
       "      <td>51</td>\n",
       "    </tr>\n",
       "    <tr>\n",
       "      <td>619881</td>\n",
       "      <td>964</td>\n",
       "      <td>05/30/2018 1:32:52 AM</td>\n",
       "      <td>4029.453125</td>\n",
       "      <td>XM</td>\n",
       "      <td>64.0</td>\n",
       "      <td>XM</td>\n",
       "      <td>False</td>\n",
       "      <td>2.0</td>\n",
       "      <td>04/04/2018</td>\n",
       "      <td>07/04/2018</td>\n",
       "      <td>0</td>\n",
       "      <td>2018-04-04</td>\n",
       "      <td>2018-07-04</td>\n",
       "      <td>91 days</td>\n",
       "      <td>False</td>\n",
       "      <td>51</td>\n",
       "    </tr>\n",
       "    <tr>\n",
       "      <td>619882</td>\n",
       "      <td>964</td>\n",
       "      <td>05/30/2018 11:54:06 PM</td>\n",
       "      <td>4048.703125</td>\n",
       "      <td>XM</td>\n",
       "      <td>64.0</td>\n",
       "      <td>XM</td>\n",
       "      <td>False</td>\n",
       "      <td>2.0</td>\n",
       "      <td>04/04/2018</td>\n",
       "      <td>07/04/2018</td>\n",
       "      <td>0</td>\n",
       "      <td>2018-04-04</td>\n",
       "      <td>2018-07-04</td>\n",
       "      <td>91 days</td>\n",
       "      <td>False</td>\n",
       "      <td>51</td>\n",
       "    </tr>\n",
       "    <tr>\n",
       "      <td>619883</td>\n",
       "      <td>964</td>\n",
       "      <td>05/30/2018 11:59:07 PM</td>\n",
       "      <td>4051.125000</td>\n",
       "      <td>XM</td>\n",
       "      <td>66.0</td>\n",
       "      <td>XM</td>\n",
       "      <td>False</td>\n",
       "      <td>2.0</td>\n",
       "      <td>04/04/2018</td>\n",
       "      <td>07/04/2018</td>\n",
       "      <td>0</td>\n",
       "      <td>2018-04-04</td>\n",
       "      <td>2018-07-04</td>\n",
       "      <td>91 days</td>\n",
       "      <td>False</td>\n",
       "      <td>51</td>\n",
       "    </tr>\n",
       "  </tbody>\n",
       "</table>\n",
       "<p>619884 rows × 16 columns</p>\n",
       "</div>"
      ],
      "text/plain": [
       "         id              storedtime  odometer_km infotainment_data_source  \\\n",
       "0        25  04/20/2018 11:26:51 AM   680.453125                     None   \n",
       "1        25  07/10/2018 11:04:43 PM  4533.343750                       XM   \n",
       "2        25  06/08/2018 11:01:49 PM  3430.109375                       XM   \n",
       "3        25  07/03/2018 11:43:56 PM  4279.843750                       XM   \n",
       "4        25  04/24/2018 11:45:25 AM   839.328125                       XM   \n",
       "...     ...                     ...          ...                      ...   \n",
       "619879  964   05/30/2018 3:54:25 AM  4046.437500                       XM   \n",
       "619880  964   05/29/2018 8:45:14 PM  4012.093750                       XM   \n",
       "619881  964   05/30/2018 1:32:52 AM  4029.453125                       XM   \n",
       "619882  964  05/30/2018 11:54:06 PM  4048.703125                       XM   \n",
       "619883  964  05/30/2018 11:59:07 PM  4051.125000                       XM   \n",
       "\n",
       "        xm_channel tuner muteflg  tuner_count trial_start_date trial_end_date  \\\n",
       "0            255.0    XM   False          2.0       04/14/2018     07/14/2018   \n",
       "1             13.0    XM   False          2.0       04/14/2018     07/14/2018   \n",
       "2             37.0    XM   False          2.0       04/14/2018     07/14/2018   \n",
       "3             13.0    XM   False          2.0       04/14/2018     07/14/2018   \n",
       "4             57.0    XM   False          2.0       04/14/2018     07/14/2018   \n",
       "...            ...   ...     ...          ...              ...            ...   \n",
       "619879        64.0    XM   False          2.0       04/04/2018     07/04/2018   \n",
       "619880        64.0    XM   False          2.0       04/04/2018     07/04/2018   \n",
       "619881        64.0    XM   False          2.0       04/04/2018     07/04/2018   \n",
       "619882        64.0    XM   False          2.0       04/04/2018     07/04/2018   \n",
       "619883        66.0    XM   False          2.0       04/04/2018     07/04/2018   \n",
       "\n",
       "        conversion start_date   end_date date_difference  subscribers  \\\n",
       "0                0 2018-04-14 2018-07-14         91 days        False   \n",
       "1                0 2018-04-14 2018-07-14         91 days        False   \n",
       "2                0 2018-04-14 2018-07-14         91 days        False   \n",
       "3                0 2018-04-14 2018-07-14         91 days        False   \n",
       "4                0 2018-04-14 2018-07-14         91 days        False   \n",
       "...            ...        ...        ...             ...          ...   \n",
       "619879           0 2018-04-04 2018-07-04         91 days        False   \n",
       "619880           0 2018-04-04 2018-07-04         91 days        False   \n",
       "619881           0 2018-04-04 2018-07-04         91 days        False   \n",
       "619882           0 2018-04-04 2018-07-04         91 days        False   \n",
       "619883           0 2018-04-04 2018-07-04         91 days        False   \n",
       "\n",
       "        total_id_counts  \n",
       "0                   517  \n",
       "1                   517  \n",
       "2                   517  \n",
       "3                   517  \n",
       "4                   517  \n",
       "...                 ...  \n",
       "619879               51  \n",
       "619880               51  \n",
       "619881               51  \n",
       "619882               51  \n",
       "619883               51  \n",
       "\n",
       "[619884 rows x 16 columns]"
      ]
     },
     "execution_count": 51,
     "metadata": {},
     "output_type": "execute_result"
    }
   ],
   "source": [
    "df_ab"
   ]
  }
 ],
 "metadata": {
  "kernelspec": {
   "display_name": "Python 3",
   "language": "python",
   "name": "python3"
  },
  "language_info": {
   "codemirror_mode": {
    "name": "ipython",
    "version": 3
   },
   "file_extension": ".py",
   "mimetype": "text/x-python",
   "name": "python",
   "nbconvert_exporter": "python",
   "pygments_lexer": "ipython3",
   "version": "3.7.4"
  }
 },
 "nbformat": 4,
 "nbformat_minor": 2
}
